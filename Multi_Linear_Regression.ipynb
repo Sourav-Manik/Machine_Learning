{
  "nbformat": 4,
  "nbformat_minor": 0,
  "metadata": {
    "colab": {
      "provenance": [],
      "toc_visible": true,
      "authorship_tag": "ABX9TyPrUVYwpsmKmf/15i59EAEa",
      "include_colab_link": true
    },
    "kernelspec": {
      "name": "python3",
      "display_name": "Python 3"
    },
    "language_info": {
      "name": "python"
    }
  },
  "cells": [
    {
      "cell_type": "markdown",
      "metadata": {
        "id": "view-in-github",
        "colab_type": "text"
      },
      "source": [
        "<a href=\"https://colab.research.google.com/github/Sourav-Manik/Machine_Learning/blob/main/Multi_Linear_Regression.ipynb\" target=\"_parent\"><img src=\"https://colab.research.google.com/assets/colab-badge.svg\" alt=\"Open In Colab\"/></a>"
      ]
    },
    {
      "cell_type": "markdown",
      "source": [
        "#Import Libraries and Datasets"
      ],
      "metadata": {
        "id": "4wMMTxR6rKqt"
      }
    },
    {
      "cell_type": "code",
      "execution_count": null,
      "metadata": {
        "id": "2G6t3yF_jhLl"
      },
      "outputs": [],
      "source": [
        "import pandas as pd\n",
        "from matplotlib import pyplot as plt\n",
        "%matplotlib inline\n",
        "import seaborn as sns\n",
        "\n",
        "import warnings\n",
        "warnings.filterwarnings('ignore')"
      ]
    },
    {
      "cell_type": "code",
      "source": [
        "cars_data = pd.read_csv('/content/Cars.csv')"
      ],
      "metadata": {
        "id": "NMQC0vTqjtwR"
      },
      "execution_count": null,
      "outputs": []
    },
    {
      "cell_type": "code",
      "source": [
        "cars_data.head()"
      ],
      "metadata": {
        "colab": {
          "base_uri": "https://localhost:8080/",
          "height": 206
        },
        "id": "hlyvXXpZjtzK",
        "outputId": "cec666c0-b276-433e-a6da-7fce89f071ae"
      },
      "execution_count": null,
      "outputs": [
        {
          "output_type": "execute_result",
          "data": {
            "text/plain": [
              "   HP        MPG  VOL          SP         WT\n",
              "0  49  53.700681   89  104.185353  28.762059\n",
              "1  55  50.013401   92  105.461264  30.466833\n",
              "2  55  50.013401   92  105.461264  30.193597\n",
              "3  70  45.696322   92  113.461264  30.632114\n",
              "4  53  50.504232   92  104.461264  29.889149"
            ],
            "text/html": [
              "\n",
              "  <div id=\"df-29732798-c879-4bb5-8e15-8390d67bd363\">\n",
              "    <div class=\"colab-df-container\">\n",
              "      <div>\n",
              "<style scoped>\n",
              "    .dataframe tbody tr th:only-of-type {\n",
              "        vertical-align: middle;\n",
              "    }\n",
              "\n",
              "    .dataframe tbody tr th {\n",
              "        vertical-align: top;\n",
              "    }\n",
              "\n",
              "    .dataframe thead th {\n",
              "        text-align: right;\n",
              "    }\n",
              "</style>\n",
              "<table border=\"1\" class=\"dataframe\">\n",
              "  <thead>\n",
              "    <tr style=\"text-align: right;\">\n",
              "      <th></th>\n",
              "      <th>HP</th>\n",
              "      <th>MPG</th>\n",
              "      <th>VOL</th>\n",
              "      <th>SP</th>\n",
              "      <th>WT</th>\n",
              "    </tr>\n",
              "  </thead>\n",
              "  <tbody>\n",
              "    <tr>\n",
              "      <th>0</th>\n",
              "      <td>49</td>\n",
              "      <td>53.700681</td>\n",
              "      <td>89</td>\n",
              "      <td>104.185353</td>\n",
              "      <td>28.762059</td>\n",
              "    </tr>\n",
              "    <tr>\n",
              "      <th>1</th>\n",
              "      <td>55</td>\n",
              "      <td>50.013401</td>\n",
              "      <td>92</td>\n",
              "      <td>105.461264</td>\n",
              "      <td>30.466833</td>\n",
              "    </tr>\n",
              "    <tr>\n",
              "      <th>2</th>\n",
              "      <td>55</td>\n",
              "      <td>50.013401</td>\n",
              "      <td>92</td>\n",
              "      <td>105.461264</td>\n",
              "      <td>30.193597</td>\n",
              "    </tr>\n",
              "    <tr>\n",
              "      <th>3</th>\n",
              "      <td>70</td>\n",
              "      <td>45.696322</td>\n",
              "      <td>92</td>\n",
              "      <td>113.461264</td>\n",
              "      <td>30.632114</td>\n",
              "    </tr>\n",
              "    <tr>\n",
              "      <th>4</th>\n",
              "      <td>53</td>\n",
              "      <td>50.504232</td>\n",
              "      <td>92</td>\n",
              "      <td>104.461264</td>\n",
              "      <td>29.889149</td>\n",
              "    </tr>\n",
              "  </tbody>\n",
              "</table>\n",
              "</div>\n",
              "      <button class=\"colab-df-convert\" onclick=\"convertToInteractive('df-29732798-c879-4bb5-8e15-8390d67bd363')\"\n",
              "              title=\"Convert this dataframe to an interactive table.\"\n",
              "              style=\"display:none;\">\n",
              "        \n",
              "  <svg xmlns=\"http://www.w3.org/2000/svg\" height=\"24px\"viewBox=\"0 0 24 24\"\n",
              "       width=\"24px\">\n",
              "    <path d=\"M0 0h24v24H0V0z\" fill=\"none\"/>\n",
              "    <path d=\"M18.56 5.44l.94 2.06.94-2.06 2.06-.94-2.06-.94-.94-2.06-.94 2.06-2.06.94zm-11 1L8.5 8.5l.94-2.06 2.06-.94-2.06-.94L8.5 2.5l-.94 2.06-2.06.94zm10 10l.94 2.06.94-2.06 2.06-.94-2.06-.94-.94-2.06-.94 2.06-2.06.94z\"/><path d=\"M17.41 7.96l-1.37-1.37c-.4-.4-.92-.59-1.43-.59-.52 0-1.04.2-1.43.59L10.3 9.45l-7.72 7.72c-.78.78-.78 2.05 0 2.83L4 21.41c.39.39.9.59 1.41.59.51 0 1.02-.2 1.41-.59l7.78-7.78 2.81-2.81c.8-.78.8-2.07 0-2.86zM5.41 20L4 18.59l7.72-7.72 1.47 1.35L5.41 20z\"/>\n",
              "  </svg>\n",
              "      </button>\n",
              "      \n",
              "  <style>\n",
              "    .colab-df-container {\n",
              "      display:flex;\n",
              "      flex-wrap:wrap;\n",
              "      gap: 12px;\n",
              "    }\n",
              "\n",
              "    .colab-df-convert {\n",
              "      background-color: #E8F0FE;\n",
              "      border: none;\n",
              "      border-radius: 50%;\n",
              "      cursor: pointer;\n",
              "      display: none;\n",
              "      fill: #1967D2;\n",
              "      height: 32px;\n",
              "      padding: 0 0 0 0;\n",
              "      width: 32px;\n",
              "    }\n",
              "\n",
              "    .colab-df-convert:hover {\n",
              "      background-color: #E2EBFA;\n",
              "      box-shadow: 0px 1px 2px rgba(60, 64, 67, 0.3), 0px 1px 3px 1px rgba(60, 64, 67, 0.15);\n",
              "      fill: #174EA6;\n",
              "    }\n",
              "\n",
              "    [theme=dark] .colab-df-convert {\n",
              "      background-color: #3B4455;\n",
              "      fill: #D2E3FC;\n",
              "    }\n",
              "\n",
              "    [theme=dark] .colab-df-convert:hover {\n",
              "      background-color: #434B5C;\n",
              "      box-shadow: 0px 1px 3px 1px rgba(0, 0, 0, 0.15);\n",
              "      filter: drop-shadow(0px 1px 2px rgba(0, 0, 0, 0.3));\n",
              "      fill: #FFFFFF;\n",
              "    }\n",
              "  </style>\n",
              "\n",
              "      <script>\n",
              "        const buttonEl =\n",
              "          document.querySelector('#df-29732798-c879-4bb5-8e15-8390d67bd363 button.colab-df-convert');\n",
              "        buttonEl.style.display =\n",
              "          google.colab.kernel.accessAllowed ? 'block' : 'none';\n",
              "\n",
              "        async function convertToInteractive(key) {\n",
              "          const element = document.querySelector('#df-29732798-c879-4bb5-8e15-8390d67bd363');\n",
              "          const dataTable =\n",
              "            await google.colab.kernel.invokeFunction('convertToInteractive',\n",
              "                                                     [key], {});\n",
              "          if (!dataTable) return;\n",
              "\n",
              "          const docLinkHtml = 'Like what you see? Visit the ' +\n",
              "            '<a target=\"_blank\" href=https://colab.research.google.com/notebooks/data_table.ipynb>data table notebook</a>'\n",
              "            + ' to learn more about interactive tables.';\n",
              "          element.innerHTML = '';\n",
              "          dataTable['output_type'] = 'display_data';\n",
              "          await google.colab.output.renderOutput(dataTable, element);\n",
              "          const docLink = document.createElement('div');\n",
              "          docLink.innerHTML = docLinkHtml;\n",
              "          element.appendChild(docLink);\n",
              "        }\n",
              "      </script>\n",
              "    </div>\n",
              "  </div>\n",
              "  "
            ]
          },
          "metadata": {},
          "execution_count": 7
        }
      ]
    },
    {
      "cell_type": "markdown",
      "source": [
        "#Data Understanding"
      ],
      "metadata": {
        "id": "TX_vwl6Pn6R-"
      }
    },
    {
      "cell_type": "code",
      "source": [
        "cars_data.shape"
      ],
      "metadata": {
        "colab": {
          "base_uri": "https://localhost:8080/"
        },
        "id": "sFq8AcO60DtE",
        "outputId": "7e06b9f9-915a-4cea-ed7e-37526db6eaa5"
      },
      "execution_count": null,
      "outputs": [
        {
          "output_type": "execute_result",
          "data": {
            "text/plain": [
              "(81, 5)"
            ]
          },
          "metadata": {},
          "execution_count": 8
        }
      ]
    },
    {
      "cell_type": "code",
      "source": [
        "cars_data.dtypes  "
      ],
      "metadata": {
        "colab": {
          "base_uri": "https://localhost:8080/"
        },
        "id": "1Nv90-fJ0u95",
        "outputId": "f150d9ba-8b69-4609-d1ee-ba8344990488"
      },
      "execution_count": null,
      "outputs": [
        {
          "output_type": "execute_result",
          "data": {
            "text/plain": [
              "HP       int64\n",
              "MPG    float64\n",
              "VOL      int64\n",
              "SP     float64\n",
              "WT     float64\n",
              "dtype: object"
            ]
          },
          "metadata": {},
          "execution_count": 9
        }
      ]
    },
    {
      "cell_type": "code",
      "source": [
        "cars_data.describe()"
      ],
      "metadata": {
        "colab": {
          "base_uri": "https://localhost:8080/",
          "height": 300
        },
        "id": "-7YggjAz0muF",
        "outputId": "faf9a841-2434-41a7-a6a1-cd69e435680e"
      },
      "execution_count": null,
      "outputs": [
        {
          "output_type": "execute_result",
          "data": {
            "text/plain": [
              "               HP        MPG         VOL          SP         WT\n",
              "count   81.000000  81.000000   81.000000   81.000000  81.000000\n",
              "mean   117.469136  34.422076   98.765432  121.540272  32.412577\n",
              "std     57.113502   9.131445   22.301497   14.181432   7.492813\n",
              "min     49.000000  12.101263   50.000000   99.564907  15.712859\n",
              "25%     84.000000  27.856252   89.000000  113.829145  29.591768\n",
              "50%    100.000000  35.152727  101.000000  118.208698  32.734518\n",
              "75%    140.000000  39.531633  113.000000  126.404312  37.392524\n",
              "max    322.000000  53.700681  160.000000  169.598513  52.997752"
            ],
            "text/html": [
              "\n",
              "  <div id=\"df-fe417710-7356-41e2-a0cd-30adf3e63c2c\">\n",
              "    <div class=\"colab-df-container\">\n",
              "      <div>\n",
              "<style scoped>\n",
              "    .dataframe tbody tr th:only-of-type {\n",
              "        vertical-align: middle;\n",
              "    }\n",
              "\n",
              "    .dataframe tbody tr th {\n",
              "        vertical-align: top;\n",
              "    }\n",
              "\n",
              "    .dataframe thead th {\n",
              "        text-align: right;\n",
              "    }\n",
              "</style>\n",
              "<table border=\"1\" class=\"dataframe\">\n",
              "  <thead>\n",
              "    <tr style=\"text-align: right;\">\n",
              "      <th></th>\n",
              "      <th>HP</th>\n",
              "      <th>MPG</th>\n",
              "      <th>VOL</th>\n",
              "      <th>SP</th>\n",
              "      <th>WT</th>\n",
              "    </tr>\n",
              "  </thead>\n",
              "  <tbody>\n",
              "    <tr>\n",
              "      <th>count</th>\n",
              "      <td>81.000000</td>\n",
              "      <td>81.000000</td>\n",
              "      <td>81.000000</td>\n",
              "      <td>81.000000</td>\n",
              "      <td>81.000000</td>\n",
              "    </tr>\n",
              "    <tr>\n",
              "      <th>mean</th>\n",
              "      <td>117.469136</td>\n",
              "      <td>34.422076</td>\n",
              "      <td>98.765432</td>\n",
              "      <td>121.540272</td>\n",
              "      <td>32.412577</td>\n",
              "    </tr>\n",
              "    <tr>\n",
              "      <th>std</th>\n",
              "      <td>57.113502</td>\n",
              "      <td>9.131445</td>\n",
              "      <td>22.301497</td>\n",
              "      <td>14.181432</td>\n",
              "      <td>7.492813</td>\n",
              "    </tr>\n",
              "    <tr>\n",
              "      <th>min</th>\n",
              "      <td>49.000000</td>\n",
              "      <td>12.101263</td>\n",
              "      <td>50.000000</td>\n",
              "      <td>99.564907</td>\n",
              "      <td>15.712859</td>\n",
              "    </tr>\n",
              "    <tr>\n",
              "      <th>25%</th>\n",
              "      <td>84.000000</td>\n",
              "      <td>27.856252</td>\n",
              "      <td>89.000000</td>\n",
              "      <td>113.829145</td>\n",
              "      <td>29.591768</td>\n",
              "    </tr>\n",
              "    <tr>\n",
              "      <th>50%</th>\n",
              "      <td>100.000000</td>\n",
              "      <td>35.152727</td>\n",
              "      <td>101.000000</td>\n",
              "      <td>118.208698</td>\n",
              "      <td>32.734518</td>\n",
              "    </tr>\n",
              "    <tr>\n",
              "      <th>75%</th>\n",
              "      <td>140.000000</td>\n",
              "      <td>39.531633</td>\n",
              "      <td>113.000000</td>\n",
              "      <td>126.404312</td>\n",
              "      <td>37.392524</td>\n",
              "    </tr>\n",
              "    <tr>\n",
              "      <th>max</th>\n",
              "      <td>322.000000</td>\n",
              "      <td>53.700681</td>\n",
              "      <td>160.000000</td>\n",
              "      <td>169.598513</td>\n",
              "      <td>52.997752</td>\n",
              "    </tr>\n",
              "  </tbody>\n",
              "</table>\n",
              "</div>\n",
              "      <button class=\"colab-df-convert\" onclick=\"convertToInteractive('df-fe417710-7356-41e2-a0cd-30adf3e63c2c')\"\n",
              "              title=\"Convert this dataframe to an interactive table.\"\n",
              "              style=\"display:none;\">\n",
              "        \n",
              "  <svg xmlns=\"http://www.w3.org/2000/svg\" height=\"24px\"viewBox=\"0 0 24 24\"\n",
              "       width=\"24px\">\n",
              "    <path d=\"M0 0h24v24H0V0z\" fill=\"none\"/>\n",
              "    <path d=\"M18.56 5.44l.94 2.06.94-2.06 2.06-.94-2.06-.94-.94-2.06-.94 2.06-2.06.94zm-11 1L8.5 8.5l.94-2.06 2.06-.94-2.06-.94L8.5 2.5l-.94 2.06-2.06.94zm10 10l.94 2.06.94-2.06 2.06-.94-2.06-.94-.94-2.06-.94 2.06-2.06.94z\"/><path d=\"M17.41 7.96l-1.37-1.37c-.4-.4-.92-.59-1.43-.59-.52 0-1.04.2-1.43.59L10.3 9.45l-7.72 7.72c-.78.78-.78 2.05 0 2.83L4 21.41c.39.39.9.59 1.41.59.51 0 1.02-.2 1.41-.59l7.78-7.78 2.81-2.81c.8-.78.8-2.07 0-2.86zM5.41 20L4 18.59l7.72-7.72 1.47 1.35L5.41 20z\"/>\n",
              "  </svg>\n",
              "      </button>\n",
              "      \n",
              "  <style>\n",
              "    .colab-df-container {\n",
              "      display:flex;\n",
              "      flex-wrap:wrap;\n",
              "      gap: 12px;\n",
              "    }\n",
              "\n",
              "    .colab-df-convert {\n",
              "      background-color: #E8F0FE;\n",
              "      border: none;\n",
              "      border-radius: 50%;\n",
              "      cursor: pointer;\n",
              "      display: none;\n",
              "      fill: #1967D2;\n",
              "      height: 32px;\n",
              "      padding: 0 0 0 0;\n",
              "      width: 32px;\n",
              "    }\n",
              "\n",
              "    .colab-df-convert:hover {\n",
              "      background-color: #E2EBFA;\n",
              "      box-shadow: 0px 1px 2px rgba(60, 64, 67, 0.3), 0px 1px 3px 1px rgba(60, 64, 67, 0.15);\n",
              "      fill: #174EA6;\n",
              "    }\n",
              "\n",
              "    [theme=dark] .colab-df-convert {\n",
              "      background-color: #3B4455;\n",
              "      fill: #D2E3FC;\n",
              "    }\n",
              "\n",
              "    [theme=dark] .colab-df-convert:hover {\n",
              "      background-color: #434B5C;\n",
              "      box-shadow: 0px 1px 3px 1px rgba(0, 0, 0, 0.15);\n",
              "      filter: drop-shadow(0px 1px 2px rgba(0, 0, 0, 0.3));\n",
              "      fill: #FFFFFF;\n",
              "    }\n",
              "  </style>\n",
              "\n",
              "      <script>\n",
              "        const buttonEl =\n",
              "          document.querySelector('#df-fe417710-7356-41e2-a0cd-30adf3e63c2c button.colab-df-convert');\n",
              "        buttonEl.style.display =\n",
              "          google.colab.kernel.accessAllowed ? 'block' : 'none';\n",
              "\n",
              "        async function convertToInteractive(key) {\n",
              "          const element = document.querySelector('#df-fe417710-7356-41e2-a0cd-30adf3e63c2c');\n",
              "          const dataTable =\n",
              "            await google.colab.kernel.invokeFunction('convertToInteractive',\n",
              "                                                     [key], {});\n",
              "          if (!dataTable) return;\n",
              "\n",
              "          const docLinkHtml = 'Like what you see? Visit the ' +\n",
              "            '<a target=\"_blank\" href=https://colab.research.google.com/notebooks/data_table.ipynb>data table notebook</a>'\n",
              "            + ' to learn more about interactive tables.';\n",
              "          element.innerHTML = '';\n",
              "          dataTable['output_type'] = 'display_data';\n",
              "          await google.colab.output.renderOutput(dataTable, element);\n",
              "          const docLink = document.createElement('div');\n",
              "          docLink.innerHTML = docLinkHtml;\n",
              "          element.appendChild(docLink);\n",
              "        }\n",
              "      </script>\n",
              "    </div>\n",
              "  </div>\n",
              "  "
            ]
          },
          "metadata": {},
          "execution_count": 10
        }
      ]
    },
    {
      "cell_type": "code",
      "source": [
        "cars_data.isnull().sum()"
      ],
      "metadata": {
        "colab": {
          "base_uri": "https://localhost:8080/"
        },
        "id": "fEUviaHL0oZn",
        "outputId": "75f736f6-d364-41bc-954b-46e5005b7eb0"
      },
      "execution_count": null,
      "outputs": [
        {
          "output_type": "execute_result",
          "data": {
            "text/plain": [
              "HP     0\n",
              "MPG    0\n",
              "VOL    0\n",
              "SP     0\n",
              "WT     0\n",
              "dtype: int64"
            ]
          },
          "metadata": {},
          "execution_count": 11
        }
      ]
    },
    {
      "cell_type": "markdown",
      "source": [
        "#Model Building"
      ],
      "metadata": {
        "id": "GSeWmW8WGh48"
      }
    },
    {
      "cell_type": "markdown",
      "source": [
        "Model building using Statsmodel"
      ],
      "metadata": {
        "id": "Bq4WwN5WaWtf"
      }
    },
    {
      "cell_type": "code",
      "source": [
        "X = cars_data.drop(labels= ['MPG'],axis = 1)           #Independent variables\n",
        "y = cars_data[['MPG']]                                 #Dependent variable"
      ],
      "metadata": {
        "id": "_wcIUU44BDom"
      },
      "execution_count": null,
      "outputs": []
    },
    {
      "cell_type": "code",
      "source": [
        "X.head()"
      ],
      "metadata": {
        "colab": {
          "base_uri": "https://localhost:8080/",
          "height": 206
        },
        "id": "LmmqJK9WZZdW",
        "outputId": "34df0df4-00f9-49f0-810c-8efabf9d98cb"
      },
      "execution_count": null,
      "outputs": [
        {
          "output_type": "execute_result",
          "data": {
            "text/plain": [
              "   HP  VOL          SP         WT\n",
              "0  49   89  104.185353  28.762059\n",
              "1  55   92  105.461264  30.466833\n",
              "2  55   92  105.461264  30.193597\n",
              "3  70   92  113.461264  30.632114\n",
              "4  53   92  104.461264  29.889149"
            ],
            "text/html": [
              "\n",
              "  <div id=\"df-da2ff2e9-1dd3-4db3-bc69-ffd658a409e6\">\n",
              "    <div class=\"colab-df-container\">\n",
              "      <div>\n",
              "<style scoped>\n",
              "    .dataframe tbody tr th:only-of-type {\n",
              "        vertical-align: middle;\n",
              "    }\n",
              "\n",
              "    .dataframe tbody tr th {\n",
              "        vertical-align: top;\n",
              "    }\n",
              "\n",
              "    .dataframe thead th {\n",
              "        text-align: right;\n",
              "    }\n",
              "</style>\n",
              "<table border=\"1\" class=\"dataframe\">\n",
              "  <thead>\n",
              "    <tr style=\"text-align: right;\">\n",
              "      <th></th>\n",
              "      <th>HP</th>\n",
              "      <th>VOL</th>\n",
              "      <th>SP</th>\n",
              "      <th>WT</th>\n",
              "    </tr>\n",
              "  </thead>\n",
              "  <tbody>\n",
              "    <tr>\n",
              "      <th>0</th>\n",
              "      <td>49</td>\n",
              "      <td>89</td>\n",
              "      <td>104.185353</td>\n",
              "      <td>28.762059</td>\n",
              "    </tr>\n",
              "    <tr>\n",
              "      <th>1</th>\n",
              "      <td>55</td>\n",
              "      <td>92</td>\n",
              "      <td>105.461264</td>\n",
              "      <td>30.466833</td>\n",
              "    </tr>\n",
              "    <tr>\n",
              "      <th>2</th>\n",
              "      <td>55</td>\n",
              "      <td>92</td>\n",
              "      <td>105.461264</td>\n",
              "      <td>30.193597</td>\n",
              "    </tr>\n",
              "    <tr>\n",
              "      <th>3</th>\n",
              "      <td>70</td>\n",
              "      <td>92</td>\n",
              "      <td>113.461264</td>\n",
              "      <td>30.632114</td>\n",
              "    </tr>\n",
              "    <tr>\n",
              "      <th>4</th>\n",
              "      <td>53</td>\n",
              "      <td>92</td>\n",
              "      <td>104.461264</td>\n",
              "      <td>29.889149</td>\n",
              "    </tr>\n",
              "  </tbody>\n",
              "</table>\n",
              "</div>\n",
              "      <button class=\"colab-df-convert\" onclick=\"convertToInteractive('df-da2ff2e9-1dd3-4db3-bc69-ffd658a409e6')\"\n",
              "              title=\"Convert this dataframe to an interactive table.\"\n",
              "              style=\"display:none;\">\n",
              "        \n",
              "  <svg xmlns=\"http://www.w3.org/2000/svg\" height=\"24px\"viewBox=\"0 0 24 24\"\n",
              "       width=\"24px\">\n",
              "    <path d=\"M0 0h24v24H0V0z\" fill=\"none\"/>\n",
              "    <path d=\"M18.56 5.44l.94 2.06.94-2.06 2.06-.94-2.06-.94-.94-2.06-.94 2.06-2.06.94zm-11 1L8.5 8.5l.94-2.06 2.06-.94-2.06-.94L8.5 2.5l-.94 2.06-2.06.94zm10 10l.94 2.06.94-2.06 2.06-.94-2.06-.94-.94-2.06-.94 2.06-2.06.94z\"/><path d=\"M17.41 7.96l-1.37-1.37c-.4-.4-.92-.59-1.43-.59-.52 0-1.04.2-1.43.59L10.3 9.45l-7.72 7.72c-.78.78-.78 2.05 0 2.83L4 21.41c.39.39.9.59 1.41.59.51 0 1.02-.2 1.41-.59l7.78-7.78 2.81-2.81c.8-.78.8-2.07 0-2.86zM5.41 20L4 18.59l7.72-7.72 1.47 1.35L5.41 20z\"/>\n",
              "  </svg>\n",
              "      </button>\n",
              "      \n",
              "  <style>\n",
              "    .colab-df-container {\n",
              "      display:flex;\n",
              "      flex-wrap:wrap;\n",
              "      gap: 12px;\n",
              "    }\n",
              "\n",
              "    .colab-df-convert {\n",
              "      background-color: #E8F0FE;\n",
              "      border: none;\n",
              "      border-radius: 50%;\n",
              "      cursor: pointer;\n",
              "      display: none;\n",
              "      fill: #1967D2;\n",
              "      height: 32px;\n",
              "      padding: 0 0 0 0;\n",
              "      width: 32px;\n",
              "    }\n",
              "\n",
              "    .colab-df-convert:hover {\n",
              "      background-color: #E2EBFA;\n",
              "      box-shadow: 0px 1px 2px rgba(60, 64, 67, 0.3), 0px 1px 3px 1px rgba(60, 64, 67, 0.15);\n",
              "      fill: #174EA6;\n",
              "    }\n",
              "\n",
              "    [theme=dark] .colab-df-convert {\n",
              "      background-color: #3B4455;\n",
              "      fill: #D2E3FC;\n",
              "    }\n",
              "\n",
              "    [theme=dark] .colab-df-convert:hover {\n",
              "      background-color: #434B5C;\n",
              "      box-shadow: 0px 1px 3px 1px rgba(0, 0, 0, 0.15);\n",
              "      filter: drop-shadow(0px 1px 2px rgba(0, 0, 0, 0.3));\n",
              "      fill: #FFFFFF;\n",
              "    }\n",
              "  </style>\n",
              "\n",
              "      <script>\n",
              "        const buttonEl =\n",
              "          document.querySelector('#df-da2ff2e9-1dd3-4db3-bc69-ffd658a409e6 button.colab-df-convert');\n",
              "        buttonEl.style.display =\n",
              "          google.colab.kernel.accessAllowed ? 'block' : 'none';\n",
              "\n",
              "        async function convertToInteractive(key) {\n",
              "          const element = document.querySelector('#df-da2ff2e9-1dd3-4db3-bc69-ffd658a409e6');\n",
              "          const dataTable =\n",
              "            await google.colab.kernel.invokeFunction('convertToInteractive',\n",
              "                                                     [key], {});\n",
              "          if (!dataTable) return;\n",
              "\n",
              "          const docLinkHtml = 'Like what you see? Visit the ' +\n",
              "            '<a target=\"_blank\" href=https://colab.research.google.com/notebooks/data_table.ipynb>data table notebook</a>'\n",
              "            + ' to learn more about interactive tables.';\n",
              "          element.innerHTML = '';\n",
              "          dataTable['output_type'] = 'display_data';\n",
              "          await google.colab.output.renderOutput(dataTable, element);\n",
              "          const docLink = document.createElement('div');\n",
              "          docLink.innerHTML = docLinkHtml;\n",
              "          element.appendChild(docLink);\n",
              "        }\n",
              "      </script>\n",
              "    </div>\n",
              "  </div>\n",
              "  "
            ]
          },
          "metadata": {},
          "execution_count": 13
        }
      ]
    },
    {
      "cell_type": "markdown",
      "source": [
        "#Data tranformation\n",
        "\n",
        "\n",
        "Let's scale the data for Homoscedasticity check"
      ],
      "metadata": {
        "id": "TxIpTZA8GClz"
      }
    },
    {
      "cell_type": "code",
      "source": [
        "from sklearn.preprocessing import StandardScaler\n",
        "std_scaler = StandardScaler()\n",
        "scaled_X = std_scaler.fit_transform(X)\n",
        "scaled_X = pd.DataFrame(data = scaled_X,columns = X.columns)\n",
        "scaled_X"
      ],
      "metadata": {
        "colab": {
          "base_uri": "https://localhost:8080/",
          "height": 424
        },
        "id": "e4WMgsJQGODd",
        "outputId": "33c153e0-1999-4b32-ec0e-dc55126f02e8"
      },
      "execution_count": null,
      "outputs": [
        {
          "output_type": "execute_result",
          "data": {
            "text/plain": [
              "          HP       VOL        SP        WT\n",
              "0  -1.206295 -0.440611 -1.231403 -0.490238\n",
              "1  -1.100587 -0.305252 -1.140871 -0.261299\n",
              "2  -1.100587 -0.305252 -1.140871 -0.297993\n",
              "3  -0.836315 -0.305252 -0.573239 -0.239103\n",
              "4  -1.135823 -0.305252 -1.211826 -0.338878\n",
              "..       ...       ...       ...       ...\n",
              "76  3.603442 -2.200268  3.409929 -2.186236\n",
              "77  2.123523  0.732494  2.060245  0.740025\n",
              "78  2.563975 -2.200268  2.132755 -2.235028\n",
              "79  3.127754  0.912972  3.292567  0.941462\n",
              "80  2.088287  0.371539  1.298499  0.340572\n",
              "\n",
              "[81 rows x 4 columns]"
            ],
            "text/html": [
              "\n",
              "  <div id=\"df-1cbf690a-a534-4fd3-be0d-e265f97b5297\">\n",
              "    <div class=\"colab-df-container\">\n",
              "      <div>\n",
              "<style scoped>\n",
              "    .dataframe tbody tr th:only-of-type {\n",
              "        vertical-align: middle;\n",
              "    }\n",
              "\n",
              "    .dataframe tbody tr th {\n",
              "        vertical-align: top;\n",
              "    }\n",
              "\n",
              "    .dataframe thead th {\n",
              "        text-align: right;\n",
              "    }\n",
              "</style>\n",
              "<table border=\"1\" class=\"dataframe\">\n",
              "  <thead>\n",
              "    <tr style=\"text-align: right;\">\n",
              "      <th></th>\n",
              "      <th>HP</th>\n",
              "      <th>VOL</th>\n",
              "      <th>SP</th>\n",
              "      <th>WT</th>\n",
              "    </tr>\n",
              "  </thead>\n",
              "  <tbody>\n",
              "    <tr>\n",
              "      <th>0</th>\n",
              "      <td>-1.206295</td>\n",
              "      <td>-0.440611</td>\n",
              "      <td>-1.231403</td>\n",
              "      <td>-0.490238</td>\n",
              "    </tr>\n",
              "    <tr>\n",
              "      <th>1</th>\n",
              "      <td>-1.100587</td>\n",
              "      <td>-0.305252</td>\n",
              "      <td>-1.140871</td>\n",
              "      <td>-0.261299</td>\n",
              "    </tr>\n",
              "    <tr>\n",
              "      <th>2</th>\n",
              "      <td>-1.100587</td>\n",
              "      <td>-0.305252</td>\n",
              "      <td>-1.140871</td>\n",
              "      <td>-0.297993</td>\n",
              "    </tr>\n",
              "    <tr>\n",
              "      <th>3</th>\n",
              "      <td>-0.836315</td>\n",
              "      <td>-0.305252</td>\n",
              "      <td>-0.573239</td>\n",
              "      <td>-0.239103</td>\n",
              "    </tr>\n",
              "    <tr>\n",
              "      <th>4</th>\n",
              "      <td>-1.135823</td>\n",
              "      <td>-0.305252</td>\n",
              "      <td>-1.211826</td>\n",
              "      <td>-0.338878</td>\n",
              "    </tr>\n",
              "    <tr>\n",
              "      <th>...</th>\n",
              "      <td>...</td>\n",
              "      <td>...</td>\n",
              "      <td>...</td>\n",
              "      <td>...</td>\n",
              "    </tr>\n",
              "    <tr>\n",
              "      <th>76</th>\n",
              "      <td>3.603442</td>\n",
              "      <td>-2.200268</td>\n",
              "      <td>3.409929</td>\n",
              "      <td>-2.186236</td>\n",
              "    </tr>\n",
              "    <tr>\n",
              "      <th>77</th>\n",
              "      <td>2.123523</td>\n",
              "      <td>0.732494</td>\n",
              "      <td>2.060245</td>\n",
              "      <td>0.740025</td>\n",
              "    </tr>\n",
              "    <tr>\n",
              "      <th>78</th>\n",
              "      <td>2.563975</td>\n",
              "      <td>-2.200268</td>\n",
              "      <td>2.132755</td>\n",
              "      <td>-2.235028</td>\n",
              "    </tr>\n",
              "    <tr>\n",
              "      <th>79</th>\n",
              "      <td>3.127754</td>\n",
              "      <td>0.912972</td>\n",
              "      <td>3.292567</td>\n",
              "      <td>0.941462</td>\n",
              "    </tr>\n",
              "    <tr>\n",
              "      <th>80</th>\n",
              "      <td>2.088287</td>\n",
              "      <td>0.371539</td>\n",
              "      <td>1.298499</td>\n",
              "      <td>0.340572</td>\n",
              "    </tr>\n",
              "  </tbody>\n",
              "</table>\n",
              "<p>81 rows × 4 columns</p>\n",
              "</div>\n",
              "      <button class=\"colab-df-convert\" onclick=\"convertToInteractive('df-1cbf690a-a534-4fd3-be0d-e265f97b5297')\"\n",
              "              title=\"Convert this dataframe to an interactive table.\"\n",
              "              style=\"display:none;\">\n",
              "        \n",
              "  <svg xmlns=\"http://www.w3.org/2000/svg\" height=\"24px\"viewBox=\"0 0 24 24\"\n",
              "       width=\"24px\">\n",
              "    <path d=\"M0 0h24v24H0V0z\" fill=\"none\"/>\n",
              "    <path d=\"M18.56 5.44l.94 2.06.94-2.06 2.06-.94-2.06-.94-.94-2.06-.94 2.06-2.06.94zm-11 1L8.5 8.5l.94-2.06 2.06-.94-2.06-.94L8.5 2.5l-.94 2.06-2.06.94zm10 10l.94 2.06.94-2.06 2.06-.94-2.06-.94-.94-2.06-.94 2.06-2.06.94z\"/><path d=\"M17.41 7.96l-1.37-1.37c-.4-.4-.92-.59-1.43-.59-.52 0-1.04.2-1.43.59L10.3 9.45l-7.72 7.72c-.78.78-.78 2.05 0 2.83L4 21.41c.39.39.9.59 1.41.59.51 0 1.02-.2 1.41-.59l7.78-7.78 2.81-2.81c.8-.78.8-2.07 0-2.86zM5.41 20L4 18.59l7.72-7.72 1.47 1.35L5.41 20z\"/>\n",
              "  </svg>\n",
              "      </button>\n",
              "      \n",
              "  <style>\n",
              "    .colab-df-container {\n",
              "      display:flex;\n",
              "      flex-wrap:wrap;\n",
              "      gap: 12px;\n",
              "    }\n",
              "\n",
              "    .colab-df-convert {\n",
              "      background-color: #E8F0FE;\n",
              "      border: none;\n",
              "      border-radius: 50%;\n",
              "      cursor: pointer;\n",
              "      display: none;\n",
              "      fill: #1967D2;\n",
              "      height: 32px;\n",
              "      padding: 0 0 0 0;\n",
              "      width: 32px;\n",
              "    }\n",
              "\n",
              "    .colab-df-convert:hover {\n",
              "      background-color: #E2EBFA;\n",
              "      box-shadow: 0px 1px 2px rgba(60, 64, 67, 0.3), 0px 1px 3px 1px rgba(60, 64, 67, 0.15);\n",
              "      fill: #174EA6;\n",
              "    }\n",
              "\n",
              "    [theme=dark] .colab-df-convert {\n",
              "      background-color: #3B4455;\n",
              "      fill: #D2E3FC;\n",
              "    }\n",
              "\n",
              "    [theme=dark] .colab-df-convert:hover {\n",
              "      background-color: #434B5C;\n",
              "      box-shadow: 0px 1px 3px 1px rgba(0, 0, 0, 0.15);\n",
              "      filter: drop-shadow(0px 1px 2px rgba(0, 0, 0, 0.3));\n",
              "      fill: #FFFFFF;\n",
              "    }\n",
              "  </style>\n",
              "\n",
              "      <script>\n",
              "        const buttonEl =\n",
              "          document.querySelector('#df-1cbf690a-a534-4fd3-be0d-e265f97b5297 button.colab-df-convert');\n",
              "        buttonEl.style.display =\n",
              "          google.colab.kernel.accessAllowed ? 'block' : 'none';\n",
              "\n",
              "        async function convertToInteractive(key) {\n",
              "          const element = document.querySelector('#df-1cbf690a-a534-4fd3-be0d-e265f97b5297');\n",
              "          const dataTable =\n",
              "            await google.colab.kernel.invokeFunction('convertToInteractive',\n",
              "                                                     [key], {});\n",
              "          if (!dataTable) return;\n",
              "\n",
              "          const docLinkHtml = 'Like what you see? Visit the ' +\n",
              "            '<a target=\"_blank\" href=https://colab.research.google.com/notebooks/data_table.ipynb>data table notebook</a>'\n",
              "            + ' to learn more about interactive tables.';\n",
              "          element.innerHTML = '';\n",
              "          dataTable['output_type'] = 'display_data';\n",
              "          await google.colab.output.renderOutput(dataTable, element);\n",
              "          const docLink = document.createElement('div');\n",
              "          docLink.innerHTML = docLinkHtml;\n",
              "          element.appendChild(docLink);\n",
              "        }\n",
              "      </script>\n",
              "    </div>\n",
              "  </div>\n",
              "  "
            ]
          },
          "metadata": {},
          "execution_count": 14
        }
      ]
    },
    {
      "cell_type": "code",
      "source": [
        "scaled_X.mean()"
      ],
      "metadata": {
        "colab": {
          "base_uri": "https://localhost:8080/"
        },
        "id": "HopcmB0rGOKt",
        "outputId": "7577176a-8984-46df-d384-9996ad44e236"
      },
      "execution_count": null,
      "outputs": [
        {
          "output_type": "execute_result",
          "data": {
            "text/plain": [
              "HP    -6.579099e-17\n",
              "VOL    1.021131e-16\n",
              "SP     1.345974e-15\n",
              "WT     1.091034e-15\n",
              "dtype: float64"
            ]
          },
          "metadata": {},
          "execution_count": 15
        }
      ]
    },
    {
      "cell_type": "code",
      "source": [
        "scaled_X.std()"
      ],
      "metadata": {
        "colab": {
          "base_uri": "https://localhost:8080/"
        },
        "id": "e_rKTZb8GON6",
        "outputId": "c36abe07-b425-4b38-c183-8bc751e93241"
      },
      "execution_count": null,
      "outputs": [
        {
          "output_type": "execute_result",
          "data": {
            "text/plain": [
              "HP     1.006231\n",
              "VOL    1.006231\n",
              "SP     1.006231\n",
              "WT     1.006231\n",
              "dtype: float64"
            ]
          },
          "metadata": {},
          "execution_count": 16
        }
      ]
    },
    {
      "cell_type": "markdown",
      "source": [
        "#Model Training"
      ],
      "metadata": {
        "id": "idbIruY7_kYU"
      }
    },
    {
      "cell_type": "code",
      "source": [
        "from sklearn.linear_model import LinearRegression\n",
        "linear_model = LinearRegression() #Model Initialization\n",
        "linear_model.fit(scaled_X,y)"
      ],
      "metadata": {
        "colab": {
          "base_uri": "https://localhost:8080/"
        },
        "id": "2AcA8Cp22rSd",
        "outputId": "b318a407-d9ac-461a-8431-773226e1c10a"
      },
      "execution_count": null,
      "outputs": [
        {
          "output_type": "execute_result",
          "data": {
            "text/plain": [
              "LinearRegression()"
            ]
          },
          "metadata": {},
          "execution_count": 17
        }
      ]
    },
    {
      "cell_type": "code",
      "source": [
        "linear_model.intercept_, linear_model.coef_"
      ],
      "metadata": {
        "colab": {
          "base_uri": "https://localhost:8080/"
        },
        "id": "JlKFE30f2rat",
        "outputId": "4ca38b4d-84cc-4a30-a9f4-ea72a9f08cdb"
      },
      "execution_count": null,
      "outputs": [
        {
          "output_type": "execute_result",
          "data": {
            "text/plain": [
              "(array([34.42207573]),\n",
              " array([[-11.66095549,  -7.44803145,   5.57581553,   2.98284187]]))"
            ]
          },
          "metadata": {},
          "execution_count": 18
        }
      ]
    },
    {
      "cell_type": "markdown",
      "source": [
        "#Model Testing"
      ],
      "metadata": {
        "id": "GoN1xEZaAkel"
      }
    },
    {
      "cell_type": "code",
      "source": [
        "y_pred = linear_model.predict(scaled_X)"
      ],
      "metadata": {
        "id": "HydeOfUz2reM"
      },
      "execution_count": null,
      "outputs": []
    },
    {
      "cell_type": "markdown",
      "source": [
        "#Model Evaluation"
      ],
      "metadata": {
        "id": "x9dEeMAXIhtD"
      }
    },
    {
      "cell_type": "code",
      "source": [
        "error = y-y_pred\n",
        "error"
      ],
      "metadata": {
        "colab": {
          "base_uri": "https://localhost:8080/",
          "height": 424
        },
        "id": "Jl_2_kJrAPou",
        "outputId": "18c85b51-7c6f-4d40-db30-81dfbe926aaf"
      },
      "execution_count": null,
      "outputs": [
        {
          "output_type": "execute_result",
          "data": {
            "text/plain": [
              "          MPG\n",
              "0   10.258747\n",
              "1    7.624608\n",
              "2    7.734060\n",
              "3    3.157963\n",
              "4    8.331584\n",
              "..        ...\n",
              "76  15.617904\n",
              "77   1.298838\n",
              "78   7.863547\n",
              "79   7.517122\n",
              "80  -3.458218\n",
              "\n",
              "[81 rows x 1 columns]"
            ],
            "text/html": [
              "\n",
              "  <div id=\"df-94c647e1-2a85-4dcd-86c7-8ca9fb7e9f18\">\n",
              "    <div class=\"colab-df-container\">\n",
              "      <div>\n",
              "<style scoped>\n",
              "    .dataframe tbody tr th:only-of-type {\n",
              "        vertical-align: middle;\n",
              "    }\n",
              "\n",
              "    .dataframe tbody tr th {\n",
              "        vertical-align: top;\n",
              "    }\n",
              "\n",
              "    .dataframe thead th {\n",
              "        text-align: right;\n",
              "    }\n",
              "</style>\n",
              "<table border=\"1\" class=\"dataframe\">\n",
              "  <thead>\n",
              "    <tr style=\"text-align: right;\">\n",
              "      <th></th>\n",
              "      <th>MPG</th>\n",
              "    </tr>\n",
              "  </thead>\n",
              "  <tbody>\n",
              "    <tr>\n",
              "      <th>0</th>\n",
              "      <td>10.258747</td>\n",
              "    </tr>\n",
              "    <tr>\n",
              "      <th>1</th>\n",
              "      <td>7.624608</td>\n",
              "    </tr>\n",
              "    <tr>\n",
              "      <th>2</th>\n",
              "      <td>7.734060</td>\n",
              "    </tr>\n",
              "    <tr>\n",
              "      <th>3</th>\n",
              "      <td>3.157963</td>\n",
              "    </tr>\n",
              "    <tr>\n",
              "      <th>4</th>\n",
              "      <td>8.331584</td>\n",
              "    </tr>\n",
              "    <tr>\n",
              "      <th>...</th>\n",
              "      <td>...</td>\n",
              "    </tr>\n",
              "    <tr>\n",
              "      <th>76</th>\n",
              "      <td>15.617904</td>\n",
              "    </tr>\n",
              "    <tr>\n",
              "      <th>77</th>\n",
              "      <td>1.298838</td>\n",
              "    </tr>\n",
              "    <tr>\n",
              "      <th>78</th>\n",
              "      <td>7.863547</td>\n",
              "    </tr>\n",
              "    <tr>\n",
              "      <th>79</th>\n",
              "      <td>7.517122</td>\n",
              "    </tr>\n",
              "    <tr>\n",
              "      <th>80</th>\n",
              "      <td>-3.458218</td>\n",
              "    </tr>\n",
              "  </tbody>\n",
              "</table>\n",
              "<p>81 rows × 1 columns</p>\n",
              "</div>\n",
              "      <button class=\"colab-df-convert\" onclick=\"convertToInteractive('df-94c647e1-2a85-4dcd-86c7-8ca9fb7e9f18')\"\n",
              "              title=\"Convert this dataframe to an interactive table.\"\n",
              "              style=\"display:none;\">\n",
              "        \n",
              "  <svg xmlns=\"http://www.w3.org/2000/svg\" height=\"24px\"viewBox=\"0 0 24 24\"\n",
              "       width=\"24px\">\n",
              "    <path d=\"M0 0h24v24H0V0z\" fill=\"none\"/>\n",
              "    <path d=\"M18.56 5.44l.94 2.06.94-2.06 2.06-.94-2.06-.94-.94-2.06-.94 2.06-2.06.94zm-11 1L8.5 8.5l.94-2.06 2.06-.94-2.06-.94L8.5 2.5l-.94 2.06-2.06.94zm10 10l.94 2.06.94-2.06 2.06-.94-2.06-.94-.94-2.06-.94 2.06-2.06.94z\"/><path d=\"M17.41 7.96l-1.37-1.37c-.4-.4-.92-.59-1.43-.59-.52 0-1.04.2-1.43.59L10.3 9.45l-7.72 7.72c-.78.78-.78 2.05 0 2.83L4 21.41c.39.39.9.59 1.41.59.51 0 1.02-.2 1.41-.59l7.78-7.78 2.81-2.81c.8-.78.8-2.07 0-2.86zM5.41 20L4 18.59l7.72-7.72 1.47 1.35L5.41 20z\"/>\n",
              "  </svg>\n",
              "      </button>\n",
              "      \n",
              "  <style>\n",
              "    .colab-df-container {\n",
              "      display:flex;\n",
              "      flex-wrap:wrap;\n",
              "      gap: 12px;\n",
              "    }\n",
              "\n",
              "    .colab-df-convert {\n",
              "      background-color: #E8F0FE;\n",
              "      border: none;\n",
              "      border-radius: 50%;\n",
              "      cursor: pointer;\n",
              "      display: none;\n",
              "      fill: #1967D2;\n",
              "      height: 32px;\n",
              "      padding: 0 0 0 0;\n",
              "      width: 32px;\n",
              "    }\n",
              "\n",
              "    .colab-df-convert:hover {\n",
              "      background-color: #E2EBFA;\n",
              "      box-shadow: 0px 1px 2px rgba(60, 64, 67, 0.3), 0px 1px 3px 1px rgba(60, 64, 67, 0.15);\n",
              "      fill: #174EA6;\n",
              "    }\n",
              "\n",
              "    [theme=dark] .colab-df-convert {\n",
              "      background-color: #3B4455;\n",
              "      fill: #D2E3FC;\n",
              "    }\n",
              "\n",
              "    [theme=dark] .colab-df-convert:hover {\n",
              "      background-color: #434B5C;\n",
              "      box-shadow: 0px 1px 3px 1px rgba(0, 0, 0, 0.15);\n",
              "      filter: drop-shadow(0px 1px 2px rgba(0, 0, 0, 0.3));\n",
              "      fill: #FFFFFF;\n",
              "    }\n",
              "  </style>\n",
              "\n",
              "      <script>\n",
              "        const buttonEl =\n",
              "          document.querySelector('#df-94c647e1-2a85-4dcd-86c7-8ca9fb7e9f18 button.colab-df-convert');\n",
              "        buttonEl.style.display =\n",
              "          google.colab.kernel.accessAllowed ? 'block' : 'none';\n",
              "\n",
              "        async function convertToInteractive(key) {\n",
              "          const element = document.querySelector('#df-94c647e1-2a85-4dcd-86c7-8ca9fb7e9f18');\n",
              "          const dataTable =\n",
              "            await google.colab.kernel.invokeFunction('convertToInteractive',\n",
              "                                                     [key], {});\n",
              "          if (!dataTable) return;\n",
              "\n",
              "          const docLinkHtml = 'Like what you see? Visit the ' +\n",
              "            '<a target=\"_blank\" href=https://colab.research.google.com/notebooks/data_table.ipynb>data table notebook</a>'\n",
              "            + ' to learn more about interactive tables.';\n",
              "          element.innerHTML = '';\n",
              "          dataTable['output_type'] = 'display_data';\n",
              "          await google.colab.output.renderOutput(dataTable, element);\n",
              "          const docLink = document.createElement('div');\n",
              "          docLink.innerHTML = docLinkHtml;\n",
              "          element.appendChild(docLink);\n",
              "        }\n",
              "      </script>\n",
              "    </div>\n",
              "  </div>\n",
              "  "
            ]
          },
          "metadata": {},
          "execution_count": 20
        }
      ]
    },
    {
      "cell_type": "markdown",
      "source": [
        "#Assumption Check"
      ],
      "metadata": {
        "id": "tz31eVOaketi"
      }
    },
    {
      "cell_type": "markdown",
      "source": [
        "##Linearity Test"
      ],
      "metadata": {
        "id": "L461C8HBk9nQ"
      }
    },
    {
      "cell_type": "code",
      "source": [
        "plt.figure(figsize = (20,8))\n",
        "sns.lmplot(x= 'HP', y ='MPG',data = cars_data)\n",
        "plt.title('HP vs MPG')\n",
        "plt.show"
      ],
      "metadata": {
        "colab": {
          "base_uri": "https://localhost:8080/",
          "height": 420
        },
        "id": "jqGvk9kC1DoI",
        "outputId": "7422c15f-0285-4d9b-a629-4ed2a3e1306b"
      },
      "execution_count": null,
      "outputs": [
        {
          "output_type": "execute_result",
          "data": {
            "text/plain": [
              "<function matplotlib.pyplot.show(*args, **kw)>"
            ]
          },
          "metadata": {},
          "execution_count": 21
        },
        {
          "output_type": "display_data",
          "data": {
            "text/plain": [
              "<Figure size 1440x576 with 0 Axes>"
            ]
          },
          "metadata": {}
        },
        {
          "output_type": "display_data",
          "data": {
            "text/plain": [
              "<Figure size 360x360 with 1 Axes>"
            ],
            "image/png": "[encoded data removed]"
          },
          "metadata": {
            "needs_background": "light"
          }
        }
      ]
    },
    {
      "cell_type": "code",
      "source": [
        "plt.figure(figsize = (20,8))\n",
        "sns.lmplot(x= 'VOL', y ='MPG',data = cars_data)\n",
        "plt.title('VOL vs MPG')\n",
        "plt.show"
      ],
      "metadata": {
        "colab": {
          "base_uri": "https://localhost:8080/",
          "height": 420
        },
        "id": "NiuMgz9z1DsC",
        "outputId": "c0bc0e0a-c447-4c97-afd1-66d0d8324ada"
      },
      "execution_count": null,
      "outputs": [
        {
          "output_type": "execute_result",
          "data": {
            "text/plain": [
              "<function matplotlib.pyplot.show(*args, **kw)>"
            ]
          },
          "metadata": {},
          "execution_count": 22
        },
        {
          "output_type": "display_data",
          "data": {
            "text/plain": [
              "<Figure size 1440x576 with 0 Axes>"
            ]
          },
          "metadata": {}
        },
        {
          "output_type": "display_data",
          "data": {
            "text/plain": [
              "<Figure size 360x360 with 1 Axes>"
            ],
            "image/png": "[encoded data removed]"
          },
          "metadata": {
            "needs_background": "light"
          }
        }
      ]
    },
    {
      "cell_type": "code",
      "source": [
        "plt.figure(figsize = (20,8))\n",
        "sns.lmplot(x= 'SP', y ='MPG',data = cars_data)\n",
        "plt.title('SP vs MPG')\n",
        "plt.show"
      ],
      "metadata": {
        "colab": {
          "base_uri": "https://localhost:8080/",
          "height": 420
        },
        "id": "lcy0AzTy1Dvh",
        "outputId": "eae93e1b-f84f-4655-cc0a-483c53e916fd"
      },
      "execution_count": null,
      "outputs": [
        {
          "output_type": "execute_result",
          "data": {
            "text/plain": [
              "<function matplotlib.pyplot.show(*args, **kw)>"
            ]
          },
          "metadata": {},
          "execution_count": 23
        },
        {
          "output_type": "display_data",
          "data": {
            "text/plain": [
              "<Figure size 1440x576 with 0 Axes>"
            ]
          },
          "metadata": {}
        },
        {
          "output_type": "display_data",
          "data": {
            "text/plain": [
              "<Figure size 360x360 with 1 Axes>"
            ],
            "image/png": "[encoded data removed]"
          },
          "metadata": {
            "needs_background": "light"
          }
        }
      ]
    },
    {
      "cell_type": "code",
      "source": [
        "plt.figure(figsize = (20,8))\n",
        "sns.lmplot(x= 'WT', y ='MPG',data = cars_data)\n",
        "plt.title('WT vs MPG')\n",
        "plt.show"
      ],
      "metadata": {
        "colab": {
          "base_uri": "https://localhost:8080/",
          "height": 420
        },
        "id": "ykMhUlqI1DyN",
        "outputId": "0265d33f-7990-45d0-f543-ebec22463871"
      },
      "execution_count": null,
      "outputs": [
        {
          "output_type": "execute_result",
          "data": {
            "text/plain": [
              "<function matplotlib.pyplot.show(*args, **kw)>"
            ]
          },
          "metadata": {},
          "execution_count": 24
        },
        {
          "output_type": "display_data",
          "data": {
            "text/plain": [
              "<Figure size 1440x576 with 0 Axes>"
            ]
          },
          "metadata": {}
        },
        {
          "output_type": "display_data",
          "data": {
            "text/plain": [
              "<Figure size 360x360 with 1 Axes>"
            ],
            "image/png": "[encoded data removed]"
          },
          "metadata": {
            "needs_background": "light"
          }
        }
      ]
    },
    {
      "cell_type": "markdown",
      "source": [
        "**Note** - All input features should pass the linearity test. In the above case none of the above input features passes Linearity test."
      ],
      "metadata": {
        "id": "H-Xn5YOu19s_"
      }
    },
    {
      "cell_type": "code",
      "source": [
        "sns.pairplot(cars_data)"
      ],
      "metadata": {
        "colab": {
          "base_uri": "https://localhost:8080/",
          "height": 920
        },
        "id": "KW8xzn8n18Yx",
        "outputId": "76e597c2-f442-4f8f-b506-675e256e92a1"
      },
      "execution_count": null,
      "outputs": [
        {
          "output_type": "execute_result",
          "data": {
            "text/plain": [
              "<seaborn.axisgrid.PairGrid at 0x7f43f9533e10>"
            ]
          },
          "metadata": {},
          "execution_count": 25
        },
        {
          "output_type": "display_data",
          "data": {
            "text/plain": [
              "<Figure size 900x900 with 30 Axes>"
            ],
            "image/png": "[encoded data removed]"
          },
          "metadata": {
            "needs_background": "light"
          }
        }
      ]
    },
    {
      "cell_type": "markdown",
      "source": [
        "##Normality Test"
      ],
      "metadata": {
        "id": "iDDOQmktlnS5"
      }
    },
    {
      "cell_type": "markdown",
      "source": [
        "It can be achieved using different techniques:\n",
        "\n",
        "1. Displot\n",
        "\n",
        "2. QQplot\n",
        "\n",
        "3. Probplot"
      ],
      "metadata": {
        "id": "ymY5n7Ud5DiY"
      }
    },
    {
      "cell_type": "code",
      "source": [
        "cars_data.head(2)"
      ],
      "metadata": {
        "colab": {
          "base_uri": "https://localhost:8080/",
          "height": 112
        },
        "id": "yqTk-n244hL4",
        "outputId": "813dfe94-df80-40cd-a617-26ee67bd9884"
      },
      "execution_count": null,
      "outputs": [
        {
          "output_type": "execute_result",
          "data": {
            "text/plain": [
              "   HP        MPG  VOL          SP         WT\n",
              "0  49  53.700681   89  104.185353  28.762059\n",
              "1  55  50.013401   92  105.461264  30.466833"
            ],
            "text/html": [
              "\n",
              "  <div id=\"df-ea80a44c-2c06-4358-99e8-7b2ad9b27ebc\">\n",
              "    <div class=\"colab-df-container\">\n",
              "      <div>\n",
              "<style scoped>\n",
              "    .dataframe tbody tr th:only-of-type {\n",
              "        vertical-align: middle;\n",
              "    }\n",
              "\n",
              "    .dataframe tbody tr th {\n",
              "        vertical-align: top;\n",
              "    }\n",
              "\n",
              "    .dataframe thead th {\n",
              "        text-align: right;\n",
              "    }\n",
              "</style>\n",
              "<table border=\"1\" class=\"dataframe\">\n",
              "  <thead>\n",
              "    <tr style=\"text-align: right;\">\n",
              "      <th></th>\n",
              "      <th>HP</th>\n",
              "      <th>MPG</th>\n",
              "      <th>VOL</th>\n",
              "      <th>SP</th>\n",
              "      <th>WT</th>\n",
              "    </tr>\n",
              "  </thead>\n",
              "  <tbody>\n",
              "    <tr>\n",
              "      <th>0</th>\n",
              "      <td>49</td>\n",
              "      <td>53.700681</td>\n",
              "      <td>89</td>\n",
              "      <td>104.185353</td>\n",
              "      <td>28.762059</td>\n",
              "    </tr>\n",
              "    <tr>\n",
              "      <th>1</th>\n",
              "      <td>55</td>\n",
              "      <td>50.013401</td>\n",
              "      <td>92</td>\n",
              "      <td>105.461264</td>\n",
              "      <td>30.466833</td>\n",
              "    </tr>\n",
              "  </tbody>\n",
              "</table>\n",
              "</div>\n",
              "      <button class=\"colab-df-convert\" onclick=\"convertToInteractive('df-ea80a44c-2c06-4358-99e8-7b2ad9b27ebc')\"\n",
              "              title=\"Convert this dataframe to an interactive table.\"\n",
              "              style=\"display:none;\">\n",
              "        \n",
              "  <svg xmlns=\"http://www.w3.org/2000/svg\" height=\"24px\"viewBox=\"0 0 24 24\"\n",
              "       width=\"24px\">\n",
              "    <path d=\"M0 0h24v24H0V0z\" fill=\"none\"/>\n",
              "    <path d=\"M18.56 5.44l.94 2.06.94-2.06 2.06-.94-2.06-.94-.94-2.06-.94 2.06-2.06.94zm-11 1L8.5 8.5l.94-2.06 2.06-.94-2.06-.94L8.5 2.5l-.94 2.06-2.06.94zm10 10l.94 2.06.94-2.06 2.06-.94-2.06-.94-.94-2.06-.94 2.06-2.06.94z\"/><path d=\"M17.41 7.96l-1.37-1.37c-.4-.4-.92-.59-1.43-.59-.52 0-1.04.2-1.43.59L10.3 9.45l-7.72 7.72c-.78.78-.78 2.05 0 2.83L4 21.41c.39.39.9.59 1.41.59.51 0 1.02-.2 1.41-.59l7.78-7.78 2.81-2.81c.8-.78.8-2.07 0-2.86zM5.41 20L4 18.59l7.72-7.72 1.47 1.35L5.41 20z\"/>\n",
              "  </svg>\n",
              "      </button>\n",
              "      \n",
              "  <style>\n",
              "    .colab-df-container {\n",
              "      display:flex;\n",
              "      flex-wrap:wrap;\n",
              "      gap: 12px;\n",
              "    }\n",
              "\n",
              "    .colab-df-convert {\n",
              "      background-color: #E8F0FE;\n",
              "      border: none;\n",
              "      border-radius: 50%;\n",
              "      cursor: pointer;\n",
              "      display: none;\n",
              "      fill: #1967D2;\n",
              "      height: 32px;\n",
              "      padding: 0 0 0 0;\n",
              "      width: 32px;\n",
              "    }\n",
              "\n",
              "    .colab-df-convert:hover {\n",
              "      background-color: #E2EBFA;\n",
              "      box-shadow: 0px 1px 2px rgba(60, 64, 67, 0.3), 0px 1px 3px 1px rgba(60, 64, 67, 0.15);\n",
              "      fill: #174EA6;\n",
              "    }\n",
              "\n",
              "    [theme=dark] .colab-df-convert {\n",
              "      background-color: #3B4455;\n",
              "      fill: #D2E3FC;\n",
              "    }\n",
              "\n",
              "    [theme=dark] .colab-df-convert:hover {\n",
              "      background-color: #434B5C;\n",
              "      box-shadow: 0px 1px 3px 1px rgba(0, 0, 0, 0.15);\n",
              "      filter: drop-shadow(0px 1px 2px rgba(0, 0, 0, 0.3));\n",
              "      fill: #FFFFFF;\n",
              "    }\n",
              "  </style>\n",
              "\n",
              "      <script>\n",
              "        const buttonEl =\n",
              "          document.querySelector('#df-ea80a44c-2c06-4358-99e8-7b2ad9b27ebc button.colab-df-convert');\n",
              "        buttonEl.style.display =\n",
              "          google.colab.kernel.accessAllowed ? 'block' : 'none';\n",
              "\n",
              "        async function convertToInteractive(key) {\n",
              "          const element = document.querySelector('#df-ea80a44c-2c06-4358-99e8-7b2ad9b27ebc');\n",
              "          const dataTable =\n",
              "            await google.colab.kernel.invokeFunction('convertToInteractive',\n",
              "                                                     [key], {});\n",
              "          if (!dataTable) return;\n",
              "\n",
              "          const docLinkHtml = 'Like what you see? Visit the ' +\n",
              "            '<a target=\"_blank\" href=https://colab.research.google.com/notebooks/data_table.ipynb>data table notebook</a>'\n",
              "            + ' to learn more about interactive tables.';\n",
              "          element.innerHTML = '';\n",
              "          dataTable['output_type'] = 'display_data';\n",
              "          await google.colab.output.renderOutput(dataTable, element);\n",
              "          const docLink = document.createElement('div');\n",
              "          docLink.innerHTML = docLinkHtml;\n",
              "          element.appendChild(docLink);\n",
              "        }\n",
              "      </script>\n",
              "    </div>\n",
              "  </div>\n",
              "  "
            ]
          },
          "metadata": {},
          "execution_count": 26
        }
      ]
    },
    {
      "cell_type": "markdown",
      "source": [
        "Displot"
      ],
      "metadata": {
        "id": "DEzgcOFT5Q2P"
      }
    },
    {
      "cell_type": "code",
      "source": [
        "sns.distplot(a =cars_data['HP'])\n",
        "plt.title('HP')\n",
        "plt.show"
      ],
      "metadata": {
        "colab": {
          "base_uri": "https://localhost:8080/",
          "height": 312
        },
        "id": "A2HxPA53kiZF",
        "outputId": "a3ba3f3c-ca72-414e-f3ba-c022177df326"
      },
      "execution_count": null,
      "outputs": [
        {
          "output_type": "execute_result",
          "data": {
            "text/plain": [
              "<function matplotlib.pyplot.show(*args, **kw)>"
            ]
          },
          "metadata": {},
          "execution_count": 27
        },
        {
          "output_type": "display_data",
          "data": {
            "text/plain": [
              "<Figure size 432x288 with 1 Axes>"
            ],
            "image/png": "[encoded data removed]"
          },
          "metadata": {
            "needs_background": "light"
          }
        }
      ]
    },
    {
      "cell_type": "code",
      "source": [
        "sns.distplot(a =cars_data['SP'])\n",
        "plt.show"
      ],
      "metadata": {
        "colab": {
          "base_uri": "https://localhost:8080/",
          "height": 296
        },
        "id": "SFI-qYZN4epZ",
        "outputId": "369b1c68-6625-417a-f996-83063c635fb3"
      },
      "execution_count": null,
      "outputs": [
        {
          "output_type": "execute_result",
          "data": {
            "text/plain": [
              "<function matplotlib.pyplot.show(*args, **kw)>"
            ]
          },
          "metadata": {},
          "execution_count": 28
        },
        {
          "output_type": "display_data",
          "data": {
            "text/plain": [
              "<Figure size 432x288 with 1 Axes>"
            ],
            "image/png": "[encoded data removed]"
          },
          "metadata": {
            "needs_background": "light"
          }
        }
      ]
    },
    {
      "cell_type": "code",
      "source": [
        "sns.distplot(a =cars_data['WT'])\n",
        "plt.show"
      ],
      "metadata": {
        "colab": {
          "base_uri": "https://localhost:8080/",
          "height": 296
        },
        "id": "Va16B_x14nF4",
        "outputId": "b9de461d-54f2-413a-9d02-e167b797c50c"
      },
      "execution_count": null,
      "outputs": [
        {
          "output_type": "execute_result",
          "data": {
            "text/plain": [
              "<function matplotlib.pyplot.show(*args, **kw)>"
            ]
          },
          "metadata": {},
          "execution_count": 29
        },
        {
          "output_type": "display_data",
          "data": {
            "text/plain": [
              "<Figure size 432x288 with 1 Axes>"
            ],
            "image/png": "[encoded data removed]"
          },
          "metadata": {
            "needs_background": "light"
          }
        }
      ]
    },
    {
      "cell_type": "code",
      "source": [
        "cars_data.skew()"
      ],
      "metadata": {
        "colab": {
          "base_uri": "https://localhost:8080/"
        },
        "id": "BXDsRmUkkien",
        "outputId": "77f31fec-e47f-4cfa-c4e4-db8806580b1b"
      },
      "execution_count": null,
      "outputs": [
        {
          "output_type": "execute_result",
          "data": {
            "text/plain": [
              "HP     1.716216\n",
              "MPG   -0.177947\n",
              "VOL   -0.590197\n",
              "SP     1.611450\n",
              "WT    -0.614753\n",
              "dtype: float64"
            ]
          },
          "metadata": {},
          "execution_count": 30
        }
      ]
    },
    {
      "cell_type": "markdown",
      "source": [
        "Probplot"
      ],
      "metadata": {
        "id": "O91wAvzu5Y8m"
      }
    },
    {
      "cell_type": "code",
      "source": [
        "from scipy import stats"
      ],
      "metadata": {
        "id": "5TEoGs145cXX"
      },
      "execution_count": null,
      "outputs": []
    },
    {
      "cell_type": "code",
      "source": [
        "stats.probplot(x = cars_data['HP'],dist='norm',plot = plt)\n",
        "plt.show()"
      ],
      "metadata": {
        "colab": {
          "base_uri": "https://localhost:8080/",
          "height": 295
        },
        "id": "uX7jK_Bd5caf",
        "outputId": "9a992ee3-a8bf-4c6a-a080-79fd19fd2963"
      },
      "execution_count": null,
      "outputs": [
        {
          "output_type": "display_data",
          "data": {
            "text/plain": [
              "<Figure size 432x288 with 1 Axes>"
            ],
            "image/png": "[encoded data removed]"
          },
          "metadata": {
            "needs_background": "light"
          }
        }
      ]
    },
    {
      "cell_type": "code",
      "source": [
        "stats.probplot(x = cars_data['WT'],dist='norm',plot = plt)\n",
        "plt.show()"
      ],
      "metadata": {
        "colab": {
          "base_uri": "https://localhost:8080/",
          "height": 295
        },
        "id": "g0Tjejuj5cdn",
        "outputId": "3b0e5a3b-33e2-4136-847d-03a00d290ef7"
      },
      "execution_count": null,
      "outputs": [
        {
          "output_type": "display_data",
          "data": {
            "text/plain": [
              "<Figure size 432x288 with 1 Axes>"
            ],
            "image/png": "[encoded data removed]"
          },
          "metadata": {
            "needs_background": "light"
          }
        }
      ]
    },
    {
      "cell_type": "code",
      "source": [
        "stats.probplot(x = cars_data['SP'],dist='norm',plot = plt)\n",
        "plt.show()"
      ],
      "metadata": {
        "colab": {
          "base_uri": "https://localhost:8080/",
          "height": 295
        },
        "id": "Mxi7Hpzk5civ",
        "outputId": "8256361e-c6ea-4b8d-dda6-c685d14d0eb3"
      },
      "execution_count": null,
      "outputs": [
        {
          "output_type": "display_data",
          "data": {
            "text/plain": [
              "<Figure size 432x288 with 1 Axes>"
            ],
            "image/png": "[encoded data removed]"
          },
          "metadata": {
            "needs_background": "light"
          }
        }
      ]
    },
    {
      "cell_type": "markdown",
      "source": [
        "Normality test also failed."
      ],
      "metadata": {
        "id": "ymisTF-w459g"
      }
    },
    {
      "cell_type": "markdown",
      "source": [
        "##Multicollinearity Test"
      ],
      "metadata": {
        "id": "nkXdZxfwnQRi"
      }
    },
    {
      "cell_type": "markdown",
      "source": [
        "Multicollinearity Test can be checked by 2 techniques:\n",
        "\n",
        "1. Correlation Matrix\n",
        "\n",
        "2. VIF - Variance Inflation Factor\n",
        "\n"
      ],
      "metadata": {
        "id": "EWC_6Qhl3G8Z"
      }
    },
    {
      "cell_type": "markdown",
      "source": [
        "1. Correlation Matrix"
      ],
      "metadata": {
        "id": "qF145SOi3vgj"
      }
    },
    {
      "cell_type": "code",
      "source": [
        "cars_data.corr()"
      ],
      "metadata": {
        "colab": {
          "base_uri": "https://localhost:8080/",
          "height": 206
        },
        "id": "HnbJS-wu2hdN",
        "outputId": "78d58d31-5240-4f6f-c15c-c10892e90faf"
      },
      "execution_count": null,
      "outputs": [
        {
          "output_type": "execute_result",
          "data": {
            "text/plain": [
              "           HP       MPG       VOL        SP        WT\n",
              "HP   1.000000 -0.725038  0.077459  0.973848  0.076513\n",
              "MPG -0.725038  1.000000 -0.529057 -0.687125 -0.526759\n",
              "VOL  0.077459 -0.529057  1.000000  0.102170  0.999203\n",
              "SP   0.973848 -0.687125  0.102170  1.000000  0.102439\n",
              "WT   0.076513 -0.526759  0.999203  0.102439  1.000000"
            ],
            "text/html": [
              "\n",
              "  <div id=\"df-d89001af-def8-47ac-84c4-ad59174a1365\">\n",
              "    <div class=\"colab-df-container\">\n",
              "      <div>\n",
              "<style scoped>\n",
              "    .dataframe tbody tr th:only-of-type {\n",
              "        vertical-align: middle;\n",
              "    }\n",
              "\n",
              "    .dataframe tbody tr th {\n",
              "        vertical-align: top;\n",
              "    }\n",
              "\n",
              "    .dataframe thead th {\n",
              "        text-align: right;\n",
              "    }\n",
              "</style>\n",
              "<table border=\"1\" class=\"dataframe\">\n",
              "  <thead>\n",
              "    <tr style=\"text-align: right;\">\n",
              "      <th></th>\n",
              "      <th>HP</th>\n",
              "      <th>MPG</th>\n",
              "      <th>VOL</th>\n",
              "      <th>SP</th>\n",
              "      <th>WT</th>\n",
              "    </tr>\n",
              "  </thead>\n",
              "  <tbody>\n",
              "    <tr>\n",
              "      <th>HP</th>\n",
              "      <td>1.000000</td>\n",
              "      <td>-0.725038</td>\n",
              "      <td>0.077459</td>\n",
              "      <td>0.973848</td>\n",
              "      <td>0.076513</td>\n",
              "    </tr>\n",
              "    <tr>\n",
              "      <th>MPG</th>\n",
              "      <td>-0.725038</td>\n",
              "      <td>1.000000</td>\n",
              "      <td>-0.529057</td>\n",
              "      <td>-0.687125</td>\n",
              "      <td>-0.526759</td>\n",
              "    </tr>\n",
              "    <tr>\n",
              "      <th>VOL</th>\n",
              "      <td>0.077459</td>\n",
              "      <td>-0.529057</td>\n",
              "      <td>1.000000</td>\n",
              "      <td>0.102170</td>\n",
              "      <td>0.999203</td>\n",
              "    </tr>\n",
              "    <tr>\n",
              "      <th>SP</th>\n",
              "      <td>0.973848</td>\n",
              "      <td>-0.687125</td>\n",
              "      <td>0.102170</td>\n",
              "      <td>1.000000</td>\n",
              "      <td>0.102439</td>\n",
              "    </tr>\n",
              "    <tr>\n",
              "      <th>WT</th>\n",
              "      <td>0.076513</td>\n",
              "      <td>-0.526759</td>\n",
              "      <td>0.999203</td>\n",
              "      <td>0.102439</td>\n",
              "      <td>1.000000</td>\n",
              "    </tr>\n",
              "  </tbody>\n",
              "</table>\n",
              "</div>\n",
              "      <button class=\"colab-df-convert\" onclick=\"convertToInteractive('df-d89001af-def8-47ac-84c4-ad59174a1365')\"\n",
              "              title=\"Convert this dataframe to an interactive table.\"\n",
              "              style=\"display:none;\">\n",
              "        \n",
              "  <svg xmlns=\"http://www.w3.org/2000/svg\" height=\"24px\"viewBox=\"0 0 24 24\"\n",
              "       width=\"24px\">\n",
              "    <path d=\"M0 0h24v24H0V0z\" fill=\"none\"/>\n",
              "    <path d=\"M18.56 5.44l.94 2.06.94-2.06 2.06-.94-2.06-.94-.94-2.06-.94 2.06-2.06.94zm-11 1L8.5 8.5l.94-2.06 2.06-.94-2.06-.94L8.5 2.5l-.94 2.06-2.06.94zm10 10l.94 2.06.94-2.06 2.06-.94-2.06-.94-.94-2.06-.94 2.06-2.06.94z\"/><path d=\"M17.41 7.96l-1.37-1.37c-.4-.4-.92-.59-1.43-.59-.52 0-1.04.2-1.43.59L10.3 9.45l-7.72 7.72c-.78.78-.78 2.05 0 2.83L4 21.41c.39.39.9.59 1.41.59.51 0 1.02-.2 1.41-.59l7.78-7.78 2.81-2.81c.8-.78.8-2.07 0-2.86zM5.41 20L4 18.59l7.72-7.72 1.47 1.35L5.41 20z\"/>\n",
              "  </svg>\n",
              "      </button>\n",
              "      \n",
              "  <style>\n",
              "    .colab-df-container {\n",
              "      display:flex;\n",
              "      flex-wrap:wrap;\n",
              "      gap: 12px;\n",
              "    }\n",
              "\n",
              "    .colab-df-convert {\n",
              "      background-color: #E8F0FE;\n",
              "      border: none;\n",
              "      border-radius: 50%;\n",
              "      cursor: pointer;\n",
              "      display: none;\n",
              "      fill: #1967D2;\n",
              "      height: 32px;\n",
              "      padding: 0 0 0 0;\n",
              "      width: 32px;\n",
              "    }\n",
              "\n",
              "    .colab-df-convert:hover {\n",
              "      background-color: #E2EBFA;\n",
              "      box-shadow: 0px 1px 2px rgba(60, 64, 67, 0.3), 0px 1px 3px 1px rgba(60, 64, 67, 0.15);\n",
              "      fill: #174EA6;\n",
              "    }\n",
              "\n",
              "    [theme=dark] .colab-df-convert {\n",
              "      background-color: #3B4455;\n",
              "      fill: #D2E3FC;\n",
              "    }\n",
              "\n",
              "    [theme=dark] .colab-df-convert:hover {\n",
              "      background-color: #434B5C;\n",
              "      box-shadow: 0px 1px 3px 1px rgba(0, 0, 0, 0.15);\n",
              "      filter: drop-shadow(0px 1px 2px rgba(0, 0, 0, 0.3));\n",
              "      fill: #FFFFFF;\n",
              "    }\n",
              "  </style>\n",
              "\n",
              "      <script>\n",
              "        const buttonEl =\n",
              "          document.querySelector('#df-d89001af-def8-47ac-84c4-ad59174a1365 button.colab-df-convert');\n",
              "        buttonEl.style.display =\n",
              "          google.colab.kernel.accessAllowed ? 'block' : 'none';\n",
              "\n",
              "        async function convertToInteractive(key) {\n",
              "          const element = document.querySelector('#df-d89001af-def8-47ac-84c4-ad59174a1365');\n",
              "          const dataTable =\n",
              "            await google.colab.kernel.invokeFunction('convertToInteractive',\n",
              "                                                     [key], {});\n",
              "          if (!dataTable) return;\n",
              "\n",
              "          const docLinkHtml = 'Like what you see? Visit the ' +\n",
              "            '<a target=\"_blank\" href=https://colab.research.google.com/notebooks/data_table.ipynb>data table notebook</a>'\n",
              "            + ' to learn more about interactive tables.';\n",
              "          element.innerHTML = '';\n",
              "          dataTable['output_type'] = 'display_data';\n",
              "          await google.colab.output.renderOutput(dataTable, element);\n",
              "          const docLink = document.createElement('div');\n",
              "          docLink.innerHTML = docLinkHtml;\n",
              "          element.appendChild(docLink);\n",
              "        }\n",
              "      </script>\n",
              "    </div>\n",
              "  </div>\n",
              "  "
            ]
          },
          "metadata": {},
          "execution_count": 35
        }
      ]
    },
    {
      "cell_type": "code",
      "source": [
        "sns.heatmap(cars_data.corr(),annot = True)"
      ],
      "metadata": {
        "colab": {
          "base_uri": "https://localhost:8080/",
          "height": 286
        },
        "id": "LcQ4rtDC2rLJ",
        "outputId": "aaf2af7d-1601-4c0b-9895-4728259e8357"
      },
      "execution_count": null,
      "outputs": [
        {
          "output_type": "execute_result",
          "data": {
            "text/plain": [
              "<matplotlib.axes._subplots.AxesSubplot at 0x7f43f70287d0>"
            ]
          },
          "metadata": {},
          "execution_count": 36
        },
        {
          "output_type": "display_data",
          "data": {
            "text/plain": [
              "<Figure size 432x288 with 2 Axes>"
            ],
            "image/png": "[encoded data removed]"
          },
          "metadata": {
            "needs_background": "light"
          }
        }
      ]
    },
    {
      "cell_type": "markdown",
      "source": [
        "As some of independent features is high correlated with each other. Multi-collinearity test is also failed."
      ],
      "metadata": {
        "id": "klWThaXo3yCY"
      }
    },
    {
      "cell_type": "markdown",
      "source": [
        "##AutoRegression Test"
      ],
      "metadata": {
        "id": "RadD-Zzlnmb9"
      }
    },
    {
      "cell_type": "markdown",
      "source": [
        "Passed as there is no time based data present."
      ],
      "metadata": {
        "id": "GO6hrPj66X53"
      }
    },
    {
      "cell_type": "markdown",
      "source": [
        "##Homoscedasticity Test"
      ],
      "metadata": {
        "id": "aWVe6jMvmw6P"
      }
    },
    {
      "cell_type": "markdown",
      "source": [
        "**Note** - \n",
        "\n",
        "It can be only preformed post model training.\n",
        "\n",
        "For Homoscedasticity check all you **input feature** should be in a **similar scale**.\n",
        "\n",
        "Homoscedasticity test is passed when we have similar variance across 0.\n",
        "\n",
        "It is a plot between Input vs Error (Error: y-y_pred)"
      ],
      "metadata": {
        "id": "D4eM6U_T9krt"
      }
    },
    {
      "cell_type": "markdown",
      "source": [
        "Homoscedasticity Test"
      ],
      "metadata": {
        "id": "ATJ9ge1-KAEH"
      }
    },
    {
      "cell_type": "code",
      "source": [
        "plt.scatter(x = scaled_X['HP'],y = error)  # we canot use sns because input features are from different dataframe.\n",
        "plt.xlabel('Scaled HP')\n",
        "plt.ylabel('Error')\n",
        "plt.title('Homoscedasticity Check - X vs Error')\n",
        "plt.show"
      ],
      "metadata": {
        "colab": {
          "base_uri": "https://localhost:8080/",
          "height": 312
        },
        "id": "gPaG6ZBLI5kz",
        "outputId": "a87c8818-1415-47ff-aa4b-65c6b6ae0b1e"
      },
      "execution_count": null,
      "outputs": [
        {
          "output_type": "execute_result",
          "data": {
            "text/plain": [
              "<function matplotlib.pyplot.show(*args, **kw)>"
            ]
          },
          "metadata": {},
          "execution_count": 38
        },
        {
          "output_type": "display_data",
          "data": {
            "text/plain": [
              "<Figure size 432x288 with 1 Axes>"
            ],
            "image/png": "[encoded data removed]"
          },
          "metadata": {
            "needs_background": "light"
          }
        }
      ]
    },
    {
      "cell_type": "code",
      "source": [
        "plt.scatter(x = scaled_X['SP'],y = error)  # we canot use sns because input features are from different dataframe.\n",
        "plt.xlabel('Scaled SP')\n",
        "plt.ylabel('Error')\n",
        "plt.title('Homoscedasticity Check - X vs Error')\n",
        "plt.show"
      ],
      "metadata": {
        "colab": {
          "base_uri": "https://localhost:8080/",
          "height": 312
        },
        "id": "iYlTGJqIKBtu",
        "outputId": "b702b613-2ba0-4583-a7cc-b949321b91a3"
      },
      "execution_count": null,
      "outputs": [
        {
          "output_type": "execute_result",
          "data": {
            "text/plain": [
              "<function matplotlib.pyplot.show(*args, **kw)>"
            ]
          },
          "metadata": {},
          "execution_count": 39
        },
        {
          "output_type": "display_data",
          "data": {
            "text/plain": [
              "<Figure size 432x288 with 1 Axes>"
            ],
            "image/png": "[encoded data removed]"
          },
          "metadata": {
            "needs_background": "light"
          }
        }
      ]
    },
    {
      "cell_type": "code",
      "source": [
        "plt.scatter(x = scaled_X['WT'],y = error)  # we canot use sns because input features are from different dataframe.\n",
        "plt.xlabel('Scaled WT')\n",
        "plt.ylabel('Error')\n",
        "plt.title('Homoscedasticity Check - X vs Error')\n",
        "plt.show"
      ],
      "metadata": {
        "colab": {
          "base_uri": "https://localhost:8080/",
          "height": 312
        },
        "id": "MFPVQBR0MzHd",
        "outputId": "5cdc7783-ad58-4380-bbdc-a8b7946bb830"
      },
      "execution_count": null,
      "outputs": [
        {
          "output_type": "execute_result",
          "data": {
            "text/plain": [
              "<function matplotlib.pyplot.show(*args, **kw)>"
            ]
          },
          "metadata": {},
          "execution_count": 40
        },
        {
          "output_type": "display_data",
          "data": {
            "text/plain": [
              "<Figure size 432x288 with 1 Axes>"
            ],
            "image/png": "[encoded data removed]"
          },
          "metadata": {
            "needs_background": "light"
          }
        }
      ]
    },
    {
      "cell_type": "code",
      "source": [
        "plt.scatter(x = scaled_X['VOL'],y = error)  # we canot use sns because input features are from different dataframe.\n",
        "plt.xlabel('Scaled Vol')\n",
        "plt.ylabel('Error')\n",
        "plt.title('Homoscedasticity Check - X vs Error')\n",
        "plt.show"
      ],
      "metadata": {
        "colab": {
          "base_uri": "https://localhost:8080/",
          "height": 312
        },
        "id": "bxnHQZtWM221",
        "outputId": "f5b213e2-d1f8-4f72-d078-5f3b3053ea06"
      },
      "execution_count": null,
      "outputs": [
        {
          "output_type": "execute_result",
          "data": {
            "text/plain": [
              "<function matplotlib.pyplot.show(*args, **kw)>"
            ]
          },
          "metadata": {},
          "execution_count": 41
        },
        {
          "output_type": "display_data",
          "data": {
            "text/plain": [
              "<Figure size 432x288 with 1 Axes>"
            ],
            "image/png": "[encoded data removed]"
          },
          "metadata": {
            "needs_background": "light"
          }
        }
      ]
    },
    {
      "cell_type": "markdown",
      "source": [
        "##Zero Residual Mean Test"
      ],
      "metadata": {
        "id": "zIL4kHS1DeWc"
      }
    },
    {
      "cell_type": "markdown",
      "source": [
        "**Note** - \n",
        "\n",
        "It can be only preformed post model training.\n",
        "\n",
        "It's a plot between Actual Output Vs Predicted Output"
      ],
      "metadata": {
        "id": "1mHZFi_2Dn0d"
      }
    },
    {
      "cell_type": "code",
      "source": [
        "plt.scatter(x = cars_data['MPG'],y = y_pred)  # we canot use sns because input features are from different dataframe.\n",
        "plt.xlabel('Actual Output')\n",
        "plt.ylabel('Predicted Output')\n",
        "plt.title('Actual VS Predicted')\n",
        "plt.show"
      ],
      "metadata": {
        "colab": {
          "base_uri": "https://localhost:8080/",
          "height": 312
        },
        "id": "68gBflzONgC8",
        "outputId": "e894a108-6c4a-4775-d8d8-367a6e083411"
      },
      "execution_count": null,
      "outputs": [
        {
          "output_type": "execute_result",
          "data": {
            "text/plain": [
              "<function matplotlib.pyplot.show(*args, **kw)>"
            ]
          },
          "metadata": {},
          "execution_count": 42
        },
        {
          "output_type": "display_data",
          "data": {
            "text/plain": [
              "<Figure size 432x288 with 1 Axes>"
            ],
            "image/png": "[encoded data removed]"
          },
          "metadata": {
            "needs_background": "light"
          }
        }
      ]
    },
    {
      "cell_type": "code",
      "source": [
        "plt.scatter(x = cars_data['WT'],y = y_pred)  # we canot use sns because input features are from different dataframe.\n",
        "plt.xlabel('Actual Output')\n",
        "plt.ylabel('Predicted Output')\n",
        "plt.title('Actual VS Predicted')\n",
        "plt.show"
      ],
      "metadata": {
        "colab": {
          "base_uri": "https://localhost:8080/",
          "height": 312
        },
        "id": "XkMkqlwWNgGW",
        "outputId": "91b16b83-3c35-4e8d-c42c-8a7b817361ff"
      },
      "execution_count": null,
      "outputs": [
        {
          "output_type": "execute_result",
          "data": {
            "text/plain": [
              "<function matplotlib.pyplot.show(*args, **kw)>"
            ]
          },
          "metadata": {},
          "execution_count": 43
        },
        {
          "output_type": "display_data",
          "data": {
            "text/plain": [
              "<Figure size 432x288 with 1 Axes>"
            ],
            "image/png": "[encoded data removed]"
          },
          "metadata": {
            "needs_background": "light"
          }
        }
      ]
    },
    {
      "cell_type": "code",
      "source": [
        "plt.scatter(x = cars_data['VOL'],y = y_pred)  # we canot use sns because input features are from different dataframe.\n",
        "plt.xlabel('Actual Output')\n",
        "plt.ylabel('Predicted Output')\n",
        "plt.title('Actual VS Predicted')\n",
        "plt.show"
      ],
      "metadata": {
        "colab": {
          "base_uri": "https://localhost:8080/",
          "height": 312
        },
        "id": "wXkwSfQsOFGc",
        "outputId": "bc2217fb-7812-4d50-f2b0-88627355c625"
      },
      "execution_count": null,
      "outputs": [
        {
          "output_type": "execute_result",
          "data": {
            "text/plain": [
              "<function matplotlib.pyplot.show(*args, **kw)>"
            ]
          },
          "metadata": {},
          "execution_count": 44
        },
        {
          "output_type": "display_data",
          "data": {
            "text/plain": [
              "<Figure size 432x288 with 1 Axes>"
            ],
            "image/png": "[encoded data removed]"
          },
          "metadata": {
            "needs_background": "light"
          }
        }
      ]
    },
    {
      "cell_type": "code",
      "source": [
        "plt.scatter(x = cars_data['SP'],y = y_pred)  # we canot use sns because input features are from different dataframe.\n",
        "plt.xlabel('Actual Output')\n",
        "plt.ylabel('Predicted Output')\n",
        "plt.title('Actual VS Predicted')\n",
        "plt.show"
      ],
      "metadata": {
        "colab": {
          "base_uri": "https://localhost:8080/",
          "height": 312
        },
        "id": "NcMJq_R-OFJh",
        "outputId": "2c78f7f0-7487-433a-db1b-09a24cd05c97"
      },
      "execution_count": null,
      "outputs": [
        {
          "output_type": "execute_result",
          "data": {
            "text/plain": [
              "<function matplotlib.pyplot.show(*args, **kw)>"
            ]
          },
          "metadata": {},
          "execution_count": 45
        },
        {
          "output_type": "display_data",
          "data": {
            "text/plain": [
              "<Figure size 432x288 with 1 Axes>"
            ],
            "image/png": "[encoded data removed]"
          },
          "metadata": {
            "needs_background": "light"
          }
        }
      ]
    },
    {
      "cell_type": "markdown",
      "source": [
        "#Model Optimization Techniques"
      ],
      "metadata": {
        "id": "ZBL8RJNfW--9"
      }
    },
    {
      "cell_type": "markdown",
      "source": [
        "###Using statsmodel build linear regression"
      ],
      "metadata": {
        "id": "eZGxKvcIXSsx"
      }
    },
    {
      "cell_type": "code",
      "source": [
        "import statsmodels.formula.api as smf"
      ],
      "metadata": {
        "id": "gUvVgPowX3r-"
      },
      "execution_count": null,
      "outputs": []
    },
    {
      "cell_type": "code",
      "source": [
        "cars_data.head()"
      ],
      "metadata": {
        "colab": {
          "base_uri": "https://localhost:8080/",
          "height": 206
        },
        "id": "-4BbL6BrXDSt",
        "outputId": "eab5da88-d69a-45ce-8ef4-f80794e54234"
      },
      "execution_count": null,
      "outputs": [
        {
          "output_type": "execute_result",
          "data": {
            "text/plain": [
              "   HP        MPG  VOL          SP         WT\n",
              "0  49  53.700681   89  104.185353  28.762059\n",
              "1  55  50.013401   92  105.461264  30.466833\n",
              "2  55  50.013401   92  105.461264  30.193597\n",
              "3  70  45.696322   92  113.461264  30.632114\n",
              "4  53  50.504232   92  104.461264  29.889149"
            ],
            "text/html": [
              "\n",
              "  <div id=\"df-ceec50ca-3b44-4c63-8a2d-e48e94419389\">\n",
              "    <div class=\"colab-df-container\">\n",
              "      <div>\n",
              "<style scoped>\n",
              "    .dataframe tbody tr th:only-of-type {\n",
              "        vertical-align: middle;\n",
              "    }\n",
              "\n",
              "    .dataframe tbody tr th {\n",
              "        vertical-align: top;\n",
              "    }\n",
              "\n",
              "    .dataframe thead th {\n",
              "        text-align: right;\n",
              "    }\n",
              "</style>\n",
              "<table border=\"1\" class=\"dataframe\">\n",
              "  <thead>\n",
              "    <tr style=\"text-align: right;\">\n",
              "      <th></th>\n",
              "      <th>HP</th>\n",
              "      <th>MPG</th>\n",
              "      <th>VOL</th>\n",
              "      <th>SP</th>\n",
              "      <th>WT</th>\n",
              "    </tr>\n",
              "  </thead>\n",
              "  <tbody>\n",
              "    <tr>\n",
              "      <th>0</th>\n",
              "      <td>49</td>\n",
              "      <td>53.700681</td>\n",
              "      <td>89</td>\n",
              "      <td>104.185353</td>\n",
              "      <td>28.762059</td>\n",
              "    </tr>\n",
              "    <tr>\n",
              "      <th>1</th>\n",
              "      <td>55</td>\n",
              "      <td>50.013401</td>\n",
              "      <td>92</td>\n",
              "      <td>105.461264</td>\n",
              "      <td>30.466833</td>\n",
              "    </tr>\n",
              "    <tr>\n",
              "      <th>2</th>\n",
              "      <td>55</td>\n",
              "      <td>50.013401</td>\n",
              "      <td>92</td>\n",
              "      <td>105.461264</td>\n",
              "      <td>30.193597</td>\n",
              "    </tr>\n",
              "    <tr>\n",
              "      <th>3</th>\n",
              "      <td>70</td>\n",
              "      <td>45.696322</td>\n",
              "      <td>92</td>\n",
              "      <td>113.461264</td>\n",
              "      <td>30.632114</td>\n",
              "    </tr>\n",
              "    <tr>\n",
              "      <th>4</th>\n",
              "      <td>53</td>\n",
              "      <td>50.504232</td>\n",
              "      <td>92</td>\n",
              "      <td>104.461264</td>\n",
              "      <td>29.889149</td>\n",
              "    </tr>\n",
              "  </tbody>\n",
              "</table>\n",
              "</div>\n",
              "      <button class=\"colab-df-convert\" onclick=\"convertToInteractive('df-ceec50ca-3b44-4c63-8a2d-e48e94419389')\"\n",
              "              title=\"Convert this dataframe to an interactive table.\"\n",
              "              style=\"display:none;\">\n",
              "        \n",
              "  <svg xmlns=\"http://www.w3.org/2000/svg\" height=\"24px\"viewBox=\"0 0 24 24\"\n",
              "       width=\"24px\">\n",
              "    <path d=\"M0 0h24v24H0V0z\" fill=\"none\"/>\n",
              "    <path d=\"M18.56 5.44l.94 2.06.94-2.06 2.06-.94-2.06-.94-.94-2.06-.94 2.06-2.06.94zm-11 1L8.5 8.5l.94-2.06 2.06-.94-2.06-.94L8.5 2.5l-.94 2.06-2.06.94zm10 10l.94 2.06.94-2.06 2.06-.94-2.06-.94-.94-2.06-.94 2.06-2.06.94z\"/><path d=\"M17.41 7.96l-1.37-1.37c-.4-.4-.92-.59-1.43-.59-.52 0-1.04.2-1.43.59L10.3 9.45l-7.72 7.72c-.78.78-.78 2.05 0 2.83L4 21.41c.39.39.9.59 1.41.59.51 0 1.02-.2 1.41-.59l7.78-7.78 2.81-2.81c.8-.78.8-2.07 0-2.86zM5.41 20L4 18.59l7.72-7.72 1.47 1.35L5.41 20z\"/>\n",
              "  </svg>\n",
              "      </button>\n",
              "      \n",
              "  <style>\n",
              "    .colab-df-container {\n",
              "      display:flex;\n",
              "      flex-wrap:wrap;\n",
              "      gap: 12px;\n",
              "    }\n",
              "\n",
              "    .colab-df-convert {\n",
              "      background-color: #E8F0FE;\n",
              "      border: none;\n",
              "      border-radius: 50%;\n",
              "      cursor: pointer;\n",
              "      display: none;\n",
              "      fill: #1967D2;\n",
              "      height: 32px;\n",
              "      padding: 0 0 0 0;\n",
              "      width: 32px;\n",
              "    }\n",
              "\n",
              "    .colab-df-convert:hover {\n",
              "      background-color: #E2EBFA;\n",
              "      box-shadow: 0px 1px 2px rgba(60, 64, 67, 0.3), 0px 1px 3px 1px rgba(60, 64, 67, 0.15);\n",
              "      fill: #174EA6;\n",
              "    }\n",
              "\n",
              "    [theme=dark] .colab-df-convert {\n",
              "      background-color: #3B4455;\n",
              "      fill: #D2E3FC;\n",
              "    }\n",
              "\n",
              "    [theme=dark] .colab-df-convert:hover {\n",
              "      background-color: #434B5C;\n",
              "      box-shadow: 0px 1px 3px 1px rgba(0, 0, 0, 0.15);\n",
              "      filter: drop-shadow(0px 1px 2px rgba(0, 0, 0, 0.3));\n",
              "      fill: #FFFFFF;\n",
              "    }\n",
              "  </style>\n",
              "\n",
              "      <script>\n",
              "        const buttonEl =\n",
              "          document.querySelector('#df-ceec50ca-3b44-4c63-8a2d-e48e94419389 button.colab-df-convert');\n",
              "        buttonEl.style.display =\n",
              "          google.colab.kernel.accessAllowed ? 'block' : 'none';\n",
              "\n",
              "        async function convertToInteractive(key) {\n",
              "          const element = document.querySelector('#df-ceec50ca-3b44-4c63-8a2d-e48e94419389');\n",
              "          const dataTable =\n",
              "            await google.colab.kernel.invokeFunction('convertToInteractive',\n",
              "                                                     [key], {});\n",
              "          if (!dataTable) return;\n",
              "\n",
              "          const docLinkHtml = 'Like what you see? Visit the ' +\n",
              "            '<a target=\"_blank\" href=https://colab.research.google.com/notebooks/data_table.ipynb>data table notebook</a>'\n",
              "            + ' to learn more about interactive tables.';\n",
              "          element.innerHTML = '';\n",
              "          dataTable['output_type'] = 'display_data';\n",
              "          await google.colab.output.renderOutput(dataTable, element);\n",
              "          const docLink = document.createElement('div');\n",
              "          docLink.innerHTML = docLinkHtml;\n",
              "          element.appendChild(docLink);\n",
              "        }\n",
              "      </script>\n",
              "    </div>\n",
              "  </div>\n",
              "  "
            ]
          },
          "metadata": {},
          "execution_count": 47
        }
      ]
    },
    {
      "cell_type": "code",
      "source": [
        "#model 1 : all features are selected\n",
        "model_1 = smf.ols(formula = 'MPG~HP+SP+VOL+WT',data=cars_data).fit()"
      ],
      "metadata": {
        "id": "-aXRVxuoXDVt"
      },
      "execution_count": null,
      "outputs": []
    },
    {
      "cell_type": "code",
      "source": [
        "model_1.params"
      ],
      "metadata": {
        "colab": {
          "base_uri": "https://localhost:8080/"
        },
        "id": "3gA-yYmVXDYf",
        "outputId": "8945731c-d85f-49a8-f5b9-184913ef0941"
      },
      "execution_count": null,
      "outputs": [
        {
          "output_type": "execute_result",
          "data": {
            "text/plain": [
              "Intercept    30.677336\n",
              "HP           -0.205444\n",
              "SP            0.395627\n",
              "VOL          -0.336051\n",
              "WT            0.400574\n",
              "dtype: float64"
            ]
          },
          "metadata": {},
          "execution_count": 49
        }
      ]
    },
    {
      "cell_type": "markdown",
      "source": [
        "**Summarize the regression model**"
      ],
      "metadata": {
        "id": "dhg5UQEHYb0f"
      }
    },
    {
      "cell_type": "code",
      "source": [
        "model_1.summary()"
      ],
      "metadata": {
        "colab": {
          "base_uri": "https://localhost:8080/",
          "height": 541
        },
        "id": "faH1X28BXDa0",
        "outputId": "0edebc31-e44d-41e8-8b98-3d58013e5b51"
      },
      "execution_count": null,
      "outputs": [
        {
          "output_type": "execute_result",
          "data": {
            "text/plain": [
              "<class 'statsmodels.iolib.summary.Summary'>\n",
              "\"\"\"\n",
              "                            OLS Regression Results                            \n",
              "==============================================================================\n",
              "Dep. Variable:                    MPG   R-squared:                       0.771\n",
              "Model:                            OLS   Adj. R-squared:                  0.758\n",
              "Method:                 Least Squares   F-statistic:                     63.80\n",
              "Date:                Tue, 29 Nov 2022   Prob (F-statistic):           1.54e-23\n",
              "Time:                        12:42:34   Log-Likelihood:                -233.96\n",
              "No. Observations:                  81   AIC:                             477.9\n",
              "Df Residuals:                      76   BIC:                             489.9\n",
              "Df Model:                           4                                         \n",
              "Covariance Type:            nonrobust                                         \n",
              "==============================================================================\n",
              "                 coef    std err          t      P>|t|      [0.025      0.975]\n",
              "------------------------------------------------------------------------------\n",
              "Intercept     30.6773     14.900      2.059      0.043       1.001      60.354\n",
              "HP            -0.2054      0.039     -5.239      0.000      -0.284      -0.127\n",
              "SP             0.3956      0.158      2.500      0.015       0.080       0.711\n",
              "VOL           -0.3361      0.569     -0.591      0.556      -1.469       0.796\n",
              "WT             0.4006      1.693      0.237      0.814      -2.972       3.773\n",
              "==============================================================================\n",
              "Omnibus:                       10.780   Durbin-Watson:                   1.403\n",
              "Prob(Omnibus):                  0.005   Jarque-Bera (JB):               11.722\n",
              "Skew:                           0.707   Prob(JB):                      0.00285\n",
              "Kurtosis:                       4.215   Cond. No.                     6.09e+03\n",
              "==============================================================================\n",
              "\n",
              "Notes:\n",
              "[1] Standard Errors assume that the covariance matrix of the errors is correctly specified.\n",
              "[2] The condition number is large, 6.09e+03. This might indicate that there are\n",
              "strong multicollinearity or other numerical problems.\n",
              "\"\"\""
            ],
            "text/html": [
              "<table class=\"simpletable\">\n",
              "<caption>OLS Regression Results</caption>\n",
              "<tr>\n",
              "  <th>Dep. Variable:</th>           <td>MPG</td>       <th>  R-squared:         </th> <td>   0.771</td>\n",
              "</tr>\n",
              "<tr>\n",
              "  <th>Model:</th>                   <td>OLS</td>       <th>  Adj. R-squared:    </th> <td>   0.758</td>\n",
              "</tr>\n",
              "<tr>\n",
              "  <th>Method:</th>             <td>Least Squares</td>  <th>  F-statistic:       </th> <td>   63.80</td>\n",
              "</tr>\n",
              "<tr>\n",
              "  <th>Date:</th>             <td>Tue, 29 Nov 2022</td> <th>  Prob (F-statistic):</th> <td>1.54e-23</td>\n",
              "</tr>\n",
              "<tr>\n",
              "  <th>Time:</th>                 <td>12:42:34</td>     <th>  Log-Likelihood:    </th> <td> -233.96</td>\n",
              "</tr>\n",
              "<tr>\n",
              "  <th>No. Observations:</th>      <td>    81</td>      <th>  AIC:               </th> <td>   477.9</td>\n",
              "</tr>\n",
              "<tr>\n",
              "  <th>Df Residuals:</th>          <td>    76</td>      <th>  BIC:               </th> <td>   489.9</td>\n",
              "</tr>\n",
              "<tr>\n",
              "  <th>Df Model:</th>              <td>     4</td>      <th>                     </th>     <td> </td>   \n",
              "</tr>\n",
              "<tr>\n",
              "  <th>Covariance Type:</th>      <td>nonrobust</td>    <th>                     </th>     <td> </td>   \n",
              "</tr>\n",
              "</table>\n",
              "<table class=\"simpletable\">\n",
              "<tr>\n",
              "      <td></td>         <th>coef</th>     <th>std err</th>      <th>t</th>      <th>P>|t|</th>  <th>[0.025</th>    <th>0.975]</th>  \n",
              "</tr>\n",
              "<tr>\n",
              "  <th>Intercept</th> <td>   30.6773</td> <td>   14.900</td> <td>    2.059</td> <td> 0.043</td> <td>    1.001</td> <td>   60.354</td>\n",
              "</tr>\n",
              "<tr>\n",
              "  <th>HP</th>        <td>   -0.2054</td> <td>    0.039</td> <td>   -5.239</td> <td> 0.000</td> <td>   -0.284</td> <td>   -0.127</td>\n",
              "</tr>\n",
              "<tr>\n",
              "  <th>SP</th>        <td>    0.3956</td> <td>    0.158</td> <td>    2.500</td> <td> 0.015</td> <td>    0.080</td> <td>    0.711</td>\n",
              "</tr>\n",
              "<tr>\n",
              "  <th>VOL</th>       <td>   -0.3361</td> <td>    0.569</td> <td>   -0.591</td> <td> 0.556</td> <td>   -1.469</td> <td>    0.796</td>\n",
              "</tr>\n",
              "<tr>\n",
              "  <th>WT</th>        <td>    0.4006</td> <td>    1.693</td> <td>    0.237</td> <td> 0.814</td> <td>   -2.972</td> <td>    3.773</td>\n",
              "</tr>\n",
              "</table>\n",
              "<table class=\"simpletable\">\n",
              "<tr>\n",
              "  <th>Omnibus:</th>       <td>10.780</td> <th>  Durbin-Watson:     </th> <td>   1.403</td>\n",
              "</tr>\n",
              "<tr>\n",
              "  <th>Prob(Omnibus):</th> <td> 0.005</td> <th>  Jarque-Bera (JB):  </th> <td>  11.722</td>\n",
              "</tr>\n",
              "<tr>\n",
              "  <th>Skew:</th>          <td> 0.707</td> <th>  Prob(JB):          </th> <td> 0.00285</td>\n",
              "</tr>\n",
              "<tr>\n",
              "  <th>Kurtosis:</th>      <td> 4.215</td> <th>  Cond. No.          </th> <td>6.09e+03</td>\n",
              "</tr>\n",
              "</table><br/><br/>Notes:<br/>[1] Standard Errors assume that the covariance matrix of the errors is correctly specified.<br/>[2] The condition number is large, 6.09e+03. This might indicate that there are<br/>strong multicollinearity or other numerical problems."
            ]
          },
          "metadata": {},
          "execution_count": 50
        }
      ]
    },
    {
      "cell_type": "markdown",
      "source": [
        "**Hypothesis Statement**\n",
        "\n",
        "H0: This feature is not significant for making prediction.\n",
        "\n",
        "Ha: This feature is significant for making prediction."
      ],
      "metadata": {
        "id": "pI966ze0Yyb_"
      }
    },
    {
      "cell_type": "code",
      "source": [
        "#model 2 : WT has been removed\n",
        "model_2 = smf.ols(formula = 'MPG~HP+SP+VOL',data=cars_data).fit()"
      ],
      "metadata": {
        "id": "ZtWfgE5SYXU_"
      },
      "execution_count": null,
      "outputs": []
    },
    {
      "cell_type": "code",
      "source": [
        "model_2.pvalues"
      ],
      "metadata": {
        "colab": {
          "base_uri": "https://localhost:8080/"
        },
        "id": "WKRdPGuHZuzO",
        "outputId": "a0aac993-8692-4e62-cab2-d1abcce19365"
      },
      "execution_count": null,
      "outputs": [
        {
          "output_type": "execute_result",
          "data": {
            "text/plain": [
              "Intercept    4.194554e-02\n",
              "HP           8.644870e-07\n",
              "SP           1.207855e-02\n",
              "VOL          1.648229e-13\n",
              "dtype: float64"
            ]
          },
          "metadata": {},
          "execution_count": 52
        }
      ]
    },
    {
      "cell_type": "code",
      "source": [
        "#model 3 : VOL has been removed\n",
        "model_3 = smf.ols(formula = 'MPG~HP+SP+WT',data=cars_data).fit()"
      ],
      "metadata": {
        "id": "Hg-PZYtbZwRF"
      },
      "execution_count": null,
      "outputs": []
    },
    {
      "cell_type": "code",
      "source": [
        "model_3.pvalues"
      ],
      "metadata": {
        "colab": {
          "base_uri": "https://localhost:8080/"
        },
        "id": "WDbqfKmEZwT7",
        "outputId": "c43f1411-0646-4263-af24-086f7a63f422"
      },
      "execution_count": null,
      "outputs": [
        {
          "output_type": "execute_result",
          "data": {
            "text/plain": [
              "Intercept    5.053995e-02\n",
              "HP           7.560276e-07\n",
              "SP           1.089096e-02\n",
              "WT           1.914892e-13\n",
              "dtype: float64"
            ]
          },
          "metadata": {},
          "execution_count": 54
        }
      ]
    },
    {
      "cell_type": "markdown",
      "source": [
        "**How to choose the best model**"
      ],
      "metadata": {
        "id": "rNUQxQEgZ5RT"
      }
    },
    {
      "cell_type": "code",
      "source": [
        "model_a = smf.ols(formula = 'MPG~HP',data=cars_data).fit()\n",
        "model_b = smf.ols(formula = 'MPG~HP+SP',data=cars_data).fit()\n",
        "model_c = smf.ols(formula = 'MPG~HP+SP+VOL',data=cars_data).fit()\n",
        "model_d = smf.ols(formula = 'MPG~HP+SP+VOL+WT',data=cars_data).fit()"
      ],
      "metadata": {
        "id": "FKzZjUXPa60v"
      },
      "execution_count": null,
      "outputs": []
    },
    {
      "cell_type": "markdown",
      "source": [
        "**Model a results**"
      ],
      "metadata": {
        "id": "p_xwj5nSbp0E"
      }
    },
    {
      "cell_type": "code",
      "source": [
        "print('R2 score          :',round(model_a.rsquared,4))\n",
        "print('Adjusted R2 score :',round(model_a.rsquared_adj,4))\n",
        "print('AIC Value         :',round(model_a.aic,4))\n",
        "print('BIC Value         :',round(model_a.bic,4))"
      ],
      "metadata": {
        "colab": {
          "base_uri": "https://localhost:8080/"
        },
        "id": "CVLsvnBZZwW_",
        "outputId": "8e02b468-10cf-4ef2-f755-4cb5806a6bbb"
      },
      "execution_count": null,
      "outputs": [
        {
          "output_type": "stream",
          "name": "stdout",
          "text": [
            "R2 score          : 0.5257\n",
            "Adjusted R2 score : 0.5197\n",
            "AIC Value         : 530.7453\n",
            "BIC Value         : 535.5342\n"
          ]
        }
      ]
    },
    {
      "cell_type": "markdown",
      "source": [
        "**Model b results**"
      ],
      "metadata": {
        "id": "8AJIDtQYbswF"
      }
    },
    {
      "cell_type": "code",
      "source": [
        "print('R2 score          :',round(model_b.rsquared,4))\n",
        "print('Adjusted R2 score :',round(model_b.rsquared_adj,4))\n",
        "print('AIC Value         :',round(model_b.aic,4))\n",
        "print('BIC Value         :',round(model_b.bic,4))"
      ],
      "metadata": {
        "colab": {
          "base_uri": "https://localhost:8080/"
        },
        "outputId": "01129a02-7b55-48a6-b09b-6bad94d18083",
        "id": "9gK6ttpSbswG"
      },
      "execution_count": null,
      "outputs": [
        {
          "output_type": "stream",
          "name": "stdout",
          "text": [
            "R2 score          : 0.5326\n",
            "Adjusted R2 score : 0.5207\n",
            "AIC Value         : 531.5481\n",
            "BIC Value         : 538.7315\n"
          ]
        }
      ]
    },
    {
      "cell_type": "markdown",
      "source": [
        "**Model c results**"
      ],
      "metadata": {
        "id": "07G540y_bs-N"
      }
    },
    {
      "cell_type": "code",
      "source": [
        "print('R2 score          :',round(model_c.rsquared,4))\n",
        "print('Adjusted R2 score :',round(model_c.rsquared_adj,4))\n",
        "print('AIC Value         :',round(model_c.aic,4))\n",
        "print('BIC Value         :',round(model_c.bic,4))"
      ],
      "metadata": {
        "colab": {
          "base_uri": "https://localhost:8080/"
        },
        "outputId": "0d66c7f9-c7fc-4f4d-f49c-59fc307e8ae6",
        "id": "gBXxhCqcbs-N"
      },
      "execution_count": null,
      "outputs": [
        {
          "output_type": "stream",
          "name": "stdout",
          "text": [
            "R2 score          : 0.7704\n",
            "Adjusted R2 score : 0.7614\n",
            "AIC Value         : 475.9875\n",
            "BIC Value         : 485.5653\n"
          ]
        }
      ]
    },
    {
      "cell_type": "markdown",
      "source": [
        "**Model d results**"
      ],
      "metadata": {
        "id": "djL94Hm6btWD"
      }
    },
    {
      "cell_type": "code",
      "source": [
        "print('R2 score          :',round(model_d.rsquared,4))\n",
        "print('Adjusted R2 score :',round(model_d.rsquared_adj,4))\n",
        "print('AIC Value         :',round(model_d.aic,4))\n",
        "print('BIC Value         :',round(model_d.bic,4))"
      ],
      "metadata": {
        "colab": {
          "base_uri": "https://localhost:8080/"
        },
        "outputId": "23751a33-ab67-48c8-fb65-fcb04b04d595",
        "id": "yE3qNJ1dbtWD"
      },
      "execution_count": null,
      "outputs": [
        {
          "output_type": "stream",
          "name": "stdout",
          "text": [
            "R2 score          : 0.7705\n",
            "Adjusted R2 score : 0.7585\n",
            "AIC Value         : 477.9279\n",
            "BIC Value         : 489.9002\n"
          ]
        }
      ]
    },
    {
      "cell_type": "markdown",
      "source": [
        "Select the model which gives lowest adjusted R2 score and AIC value"
      ],
      "metadata": {
        "id": "hNzOYMvPg_Hi"
      }
    },
    {
      "cell_type": "markdown",
      "source": [
        "###Using Sklearn build Linear Regression"
      ],
      "metadata": {
        "id": "TtBJlorFgt-P"
      }
    },
    {
      "cell_type": "markdown",
      "source": [
        "Model Building\n",
        "\n",
        "1. Seperate your input and output\n",
        "\n",
        "2. Model Validation Techiques:\n",
        "\n",
        "    *   Train-Test Split\n",
        "\n",
        "    *   K-Fold Cross Validation\n",
        "\n",
        "    *   Leave one out cross Validation\n",
        "\n",
        "\n",
        "\n",
        "\n",
        "\n"
      ],
      "metadata": {
        "id": "9ZBrZ8PciUDs"
      }
    },
    {
      "cell_type": "code",
      "source": [
        "from sklearn.model_selection import train_test_split\n",
        "X_train, X_test, y_train, y_test = train_test_split(X,y,test_size = 0.20,shuffle=True, random_state = 12)\n",
        "#Random_state - to pick up the same sample every time"
      ],
      "metadata": {
        "id": "50AZJroAg1Qy"
      },
      "execution_count": null,
      "outputs": []
    },
    {
      "cell_type": "code",
      "source": [
        "X_train"
      ],
      "metadata": {
        "colab": {
          "base_uri": "https://localhost:8080/",
          "height": 424
        },
        "id": "RINmCdU1iGXW",
        "outputId": "8eef7108-c690-4d5a-9a95-49e1787c8bfe"
      },
      "execution_count": null,
      "outputs": [
        {
          "output_type": "execute_result",
          "data": {
            "text/plain": [
              "     HP  VOL          SP         WT\n",
              "59  100  115  115.576579  37.662874\n",
              "63  140  123  125.312342  40.722831\n",
              "28   52  104   99.564907  34.483207\n",
              "40   95  113  116.392639  37.392524\n",
              "43   95   88  114.093383  28.343976\n",
              "..  ...  ...         ...        ...\n",
              "3    70   92  113.461264  30.632114\n",
              "2    55   92  105.461264  30.193597\n",
              "6    55   92  105.461264  30.308480\n",
              "27   92   99  119.105055  32.835069\n",
              "75  175  129  132.864163  42.778219\n",
              "\n",
              "[64 rows x 4 columns]"
            ],
            "text/html": [
              "\n",
              "  <div id=\"df-ebe9a782-1e6c-466a-8e39-a95011d3defb\">\n",
              "    <div class=\"colab-df-container\">\n",
              "      <div>\n",
              "<style scoped>\n",
              "    .dataframe tbody tr th:only-of-type {\n",
              "        vertical-align: middle;\n",
              "    }\n",
              "\n",
              "    .dataframe tbody tr th {\n",
              "        vertical-align: top;\n",
              "    }\n",
              "\n",
              "    .dataframe thead th {\n",
              "        text-align: right;\n",
              "    }\n",
              "</style>\n",
              "<table border=\"1\" class=\"dataframe\">\n",
              "  <thead>\n",
              "    <tr style=\"text-align: right;\">\n",
              "      <th></th>\n",
              "      <th>HP</th>\n",
              "      <th>VOL</th>\n",
              "      <th>SP</th>\n",
              "      <th>WT</th>\n",
              "    </tr>\n",
              "  </thead>\n",
              "  <tbody>\n",
              "    <tr>\n",
              "      <th>59</th>\n",
              "      <td>100</td>\n",
              "      <td>115</td>\n",
              "      <td>115.576579</td>\n",
              "      <td>37.662874</td>\n",
              "    </tr>\n",
              "    <tr>\n",
              "      <th>63</th>\n",
              "      <td>140</td>\n",
              "      <td>123</td>\n",
              "      <td>125.312342</td>\n",
              "      <td>40.722831</td>\n",
              "    </tr>\n",
              "    <tr>\n",
              "      <th>28</th>\n",
              "      <td>52</td>\n",
              "      <td>104</td>\n",
              "      <td>99.564907</td>\n",
              "      <td>34.483207</td>\n",
              "    </tr>\n",
              "    <tr>\n",
              "      <th>40</th>\n",
              "      <td>95</td>\n",
              "      <td>113</td>\n",
              "      <td>116.392639</td>\n",
              "      <td>37.392524</td>\n",
              "    </tr>\n",
              "    <tr>\n",
              "      <th>43</th>\n",
              "      <td>95</td>\n",
              "      <td>88</td>\n",
              "      <td>114.093383</td>\n",
              "      <td>28.343976</td>\n",
              "    </tr>\n",
              "    <tr>\n",
              "      <th>...</th>\n",
              "      <td>...</td>\n",
              "      <td>...</td>\n",
              "      <td>...</td>\n",
              "      <td>...</td>\n",
              "    </tr>\n",
              "    <tr>\n",
              "      <th>3</th>\n",
              "      <td>70</td>\n",
              "      <td>92</td>\n",
              "      <td>113.461264</td>\n",
              "      <td>30.632114</td>\n",
              "    </tr>\n",
              "    <tr>\n",
              "      <th>2</th>\n",
              "      <td>55</td>\n",
              "      <td>92</td>\n",
              "      <td>105.461264</td>\n",
              "      <td>30.193597</td>\n",
              "    </tr>\n",
              "    <tr>\n",
              "      <th>6</th>\n",
              "      <td>55</td>\n",
              "      <td>92</td>\n",
              "      <td>105.461264</td>\n",
              "      <td>30.308480</td>\n",
              "    </tr>\n",
              "    <tr>\n",
              "      <th>27</th>\n",
              "      <td>92</td>\n",
              "      <td>99</td>\n",
              "      <td>119.105055</td>\n",
              "      <td>32.835069</td>\n",
              "    </tr>\n",
              "    <tr>\n",
              "      <th>75</th>\n",
              "      <td>175</td>\n",
              "      <td>129</td>\n",
              "      <td>132.864163</td>\n",
              "      <td>42.778219</td>\n",
              "    </tr>\n",
              "  </tbody>\n",
              "</table>\n",
              "<p>64 rows × 4 columns</p>\n",
              "</div>\n",
              "      <button class=\"colab-df-convert\" onclick=\"convertToInteractive('df-ebe9a782-1e6c-466a-8e39-a95011d3defb')\"\n",
              "              title=\"Convert this dataframe to an interactive table.\"\n",
              "              style=\"display:none;\">\n",
              "        \n",
              "  <svg xmlns=\"http://www.w3.org/2000/svg\" height=\"24px\"viewBox=\"0 0 24 24\"\n",
              "       width=\"24px\">\n",
              "    <path d=\"M0 0h24v24H0V0z\" fill=\"none\"/>\n",
              "    <path d=\"M18.56 5.44l.94 2.06.94-2.06 2.06-.94-2.06-.94-.94-2.06-.94 2.06-2.06.94zm-11 1L8.5 8.5l.94-2.06 2.06-.94-2.06-.94L8.5 2.5l-.94 2.06-2.06.94zm10 10l.94 2.06.94-2.06 2.06-.94-2.06-.94-.94-2.06-.94 2.06-2.06.94z\"/><path d=\"M17.41 7.96l-1.37-1.37c-.4-.4-.92-.59-1.43-.59-.52 0-1.04.2-1.43.59L10.3 9.45l-7.72 7.72c-.78.78-.78 2.05 0 2.83L4 21.41c.39.39.9.59 1.41.59.51 0 1.02-.2 1.41-.59l7.78-7.78 2.81-2.81c.8-.78.8-2.07 0-2.86zM5.41 20L4 18.59l7.72-7.72 1.47 1.35L5.41 20z\"/>\n",
              "  </svg>\n",
              "      </button>\n",
              "      \n",
              "  <style>\n",
              "    .colab-df-container {\n",
              "      display:flex;\n",
              "      flex-wrap:wrap;\n",
              "      gap: 12px;\n",
              "    }\n",
              "\n",
              "    .colab-df-convert {\n",
              "      background-color: #E8F0FE;\n",
              "      border: none;\n",
              "      border-radius: 50%;\n",
              "      cursor: pointer;\n",
              "      display: none;\n",
              "      fill: #1967D2;\n",
              "      height: 32px;\n",
              "      padding: 0 0 0 0;\n",
              "      width: 32px;\n",
              "    }\n",
              "\n",
              "    .colab-df-convert:hover {\n",
              "      background-color: #E2EBFA;\n",
              "      box-shadow: 0px 1px 2px rgba(60, 64, 67, 0.3), 0px 1px 3px 1px rgba(60, 64, 67, 0.15);\n",
              "      fill: #174EA6;\n",
              "    }\n",
              "\n",
              "    [theme=dark] .colab-df-convert {\n",
              "      background-color: #3B4455;\n",
              "      fill: #D2E3FC;\n",
              "    }\n",
              "\n",
              "    [theme=dark] .colab-df-convert:hover {\n",
              "      background-color: #434B5C;\n",
              "      box-shadow: 0px 1px 3px 1px rgba(0, 0, 0, 0.15);\n",
              "      filter: drop-shadow(0px 1px 2px rgba(0, 0, 0, 0.3));\n",
              "      fill: #FFFFFF;\n",
              "    }\n",
              "  </style>\n",
              "\n",
              "      <script>\n",
              "        const buttonEl =\n",
              "          document.querySelector('#df-ebe9a782-1e6c-466a-8e39-a95011d3defb button.colab-df-convert');\n",
              "        buttonEl.style.display =\n",
              "          google.colab.kernel.accessAllowed ? 'block' : 'none';\n",
              "\n",
              "        async function convertToInteractive(key) {\n",
              "          const element = document.querySelector('#df-ebe9a782-1e6c-466a-8e39-a95011d3defb');\n",
              "          const dataTable =\n",
              "            await google.colab.kernel.invokeFunction('convertToInteractive',\n",
              "                                                     [key], {});\n",
              "          if (!dataTable) return;\n",
              "\n",
              "          const docLinkHtml = 'Like what you see? Visit the ' +\n",
              "            '<a target=\"_blank\" href=https://colab.research.google.com/notebooks/data_table.ipynb>data table notebook</a>'\n",
              "            + ' to learn more about interactive tables.';\n",
              "          element.innerHTML = '';\n",
              "          dataTable['output_type'] = 'display_data';\n",
              "          await google.colab.output.renderOutput(dataTable, element);\n",
              "          const docLink = document.createElement('div');\n",
              "          docLink.innerHTML = docLinkHtml;\n",
              "          element.appendChild(docLink);\n",
              "        }\n",
              "      </script>\n",
              "    </div>\n",
              "  </div>\n",
              "  "
            ]
          },
          "metadata": {},
          "execution_count": 61
        }
      ]
    },
    {
      "cell_type": "code",
      "source": [
        "y_train"
      ],
      "metadata": {
        "colab": {
          "base_uri": "https://localhost:8080/",
          "height": 424
        },
        "id": "yS1bRCMeiIuW",
        "outputId": "86b1eca4-76dd-4f3e-c280-9adad8fe9309"
      },
      "execution_count": null,
      "outputs": [
        {
          "output_type": "execute_result",
          "data": {
            "text/plain": [
              "          MPG\n",
              "59  28.860225\n",
              "63  23.515917\n",
              "28  43.469434\n",
              "40  35.152727\n",
              "43  35.152727\n",
              "..        ...\n",
              "3   45.696322\n",
              "2   50.013401\n",
              "6   50.013401\n",
              "27  38.411003\n",
              "75  18.762837\n",
              "\n",
              "[64 rows x 1 columns]"
            ],
            "text/html": [
              "\n",
              "  <div id=\"df-c4986623-fc28-4c92-a9cf-eda3464564b1\">\n",
              "    <div class=\"colab-df-container\">\n",
              "      <div>\n",
              "<style scoped>\n",
              "    .dataframe tbody tr th:only-of-type {\n",
              "        vertical-align: middle;\n",
              "    }\n",
              "\n",
              "    .dataframe tbody tr th {\n",
              "        vertical-align: top;\n",
              "    }\n",
              "\n",
              "    .dataframe thead th {\n",
              "        text-align: right;\n",
              "    }\n",
              "</style>\n",
              "<table border=\"1\" class=\"dataframe\">\n",
              "  <thead>\n",
              "    <tr style=\"text-align: right;\">\n",
              "      <th></th>\n",
              "      <th>MPG</th>\n",
              "    </tr>\n",
              "  </thead>\n",
              "  <tbody>\n",
              "    <tr>\n",
              "      <th>59</th>\n",
              "      <td>28.860225</td>\n",
              "    </tr>\n",
              "    <tr>\n",
              "      <th>63</th>\n",
              "      <td>23.515917</td>\n",
              "    </tr>\n",
              "    <tr>\n",
              "      <th>28</th>\n",
              "      <td>43.469434</td>\n",
              "    </tr>\n",
              "    <tr>\n",
              "      <th>40</th>\n",
              "      <td>35.152727</td>\n",
              "    </tr>\n",
              "    <tr>\n",
              "      <th>43</th>\n",
              "      <td>35.152727</td>\n",
              "    </tr>\n",
              "    <tr>\n",
              "      <th>...</th>\n",
              "      <td>...</td>\n",
              "    </tr>\n",
              "    <tr>\n",
              "      <th>3</th>\n",
              "      <td>45.696322</td>\n",
              "    </tr>\n",
              "    <tr>\n",
              "      <th>2</th>\n",
              "      <td>50.013401</td>\n",
              "    </tr>\n",
              "    <tr>\n",
              "      <th>6</th>\n",
              "      <td>50.013401</td>\n",
              "    </tr>\n",
              "    <tr>\n",
              "      <th>27</th>\n",
              "      <td>38.411003</td>\n",
              "    </tr>\n",
              "    <tr>\n",
              "      <th>75</th>\n",
              "      <td>18.762837</td>\n",
              "    </tr>\n",
              "  </tbody>\n",
              "</table>\n",
              "<p>64 rows × 1 columns</p>\n",
              "</div>\n",
              "      <button class=\"colab-df-convert\" onclick=\"convertToInteractive('df-c4986623-fc28-4c92-a9cf-eda3464564b1')\"\n",
              "              title=\"Convert this dataframe to an interactive table.\"\n",
              "              style=\"display:none;\">\n",
              "        \n",
              "  <svg xmlns=\"http://www.w3.org/2000/svg\" height=\"24px\"viewBox=\"0 0 24 24\"\n",
              "       width=\"24px\">\n",
              "    <path d=\"M0 0h24v24H0V0z\" fill=\"none\"/>\n",
              "    <path d=\"M18.56 5.44l.94 2.06.94-2.06 2.06-.94-2.06-.94-.94-2.06-.94 2.06-2.06.94zm-11 1L8.5 8.5l.94-2.06 2.06-.94-2.06-.94L8.5 2.5l-.94 2.06-2.06.94zm10 10l.94 2.06.94-2.06 2.06-.94-2.06-.94-.94-2.06-.94 2.06-2.06.94z\"/><path d=\"M17.41 7.96l-1.37-1.37c-.4-.4-.92-.59-1.43-.59-.52 0-1.04.2-1.43.59L10.3 9.45l-7.72 7.72c-.78.78-.78 2.05 0 2.83L4 21.41c.39.39.9.59 1.41.59.51 0 1.02-.2 1.41-.59l7.78-7.78 2.81-2.81c.8-.78.8-2.07 0-2.86zM5.41 20L4 18.59l7.72-7.72 1.47 1.35L5.41 20z\"/>\n",
              "  </svg>\n",
              "      </button>\n",
              "      \n",
              "  <style>\n",
              "    .colab-df-container {\n",
              "      display:flex;\n",
              "      flex-wrap:wrap;\n",
              "      gap: 12px;\n",
              "    }\n",
              "\n",
              "    .colab-df-convert {\n",
              "      background-color: #E8F0FE;\n",
              "      border: none;\n",
              "      border-radius: 50%;\n",
              "      cursor: pointer;\n",
              "      display: none;\n",
              "      fill: #1967D2;\n",
              "      height: 32px;\n",
              "      padding: 0 0 0 0;\n",
              "      width: 32px;\n",
              "    }\n",
              "\n",
              "    .colab-df-convert:hover {\n",
              "      background-color: #E2EBFA;\n",
              "      box-shadow: 0px 1px 2px rgba(60, 64, 67, 0.3), 0px 1px 3px 1px rgba(60, 64, 67, 0.15);\n",
              "      fill: #174EA6;\n",
              "    }\n",
              "\n",
              "    [theme=dark] .colab-df-convert {\n",
              "      background-color: #3B4455;\n",
              "      fill: #D2E3FC;\n",
              "    }\n",
              "\n",
              "    [theme=dark] .colab-df-convert:hover {\n",
              "      background-color: #434B5C;\n",
              "      box-shadow: 0px 1px 3px 1px rgba(0, 0, 0, 0.15);\n",
              "      filter: drop-shadow(0px 1px 2px rgba(0, 0, 0, 0.3));\n",
              "      fill: #FFFFFF;\n",
              "    }\n",
              "  </style>\n",
              "\n",
              "      <script>\n",
              "        const buttonEl =\n",
              "          document.querySelector('#df-c4986623-fc28-4c92-a9cf-eda3464564b1 button.colab-df-convert');\n",
              "        buttonEl.style.display =\n",
              "          google.colab.kernel.accessAllowed ? 'block' : 'none';\n",
              "\n",
              "        async function convertToInteractive(key) {\n",
              "          const element = document.querySelector('#df-c4986623-fc28-4c92-a9cf-eda3464564b1');\n",
              "          const dataTable =\n",
              "            await google.colab.kernel.invokeFunction('convertToInteractive',\n",
              "                                                     [key], {});\n",
              "          if (!dataTable) return;\n",
              "\n",
              "          const docLinkHtml = 'Like what you see? Visit the ' +\n",
              "            '<a target=\"_blank\" href=https://colab.research.google.com/notebooks/data_table.ipynb>data table notebook</a>'\n",
              "            + ' to learn more about interactive tables.';\n",
              "          element.innerHTML = '';\n",
              "          dataTable['output_type'] = 'display_data';\n",
              "          await google.colab.output.renderOutput(dataTable, element);\n",
              "          const docLink = document.createElement('div');\n",
              "          docLink.innerHTML = docLinkHtml;\n",
              "          element.appendChild(docLink);\n",
              "        }\n",
              "      </script>\n",
              "    </div>\n",
              "  </div>\n",
              "  "
            ]
          },
          "metadata": {},
          "execution_count": 62
        }
      ]
    },
    {
      "cell_type": "markdown",
      "source": [
        "Model Training"
      ],
      "metadata": {
        "id": "OVOSQO2NjNoJ"
      }
    },
    {
      "cell_type": "code",
      "source": [
        "from sklearn.linear_model import LinearRegression\n",
        "linear_model = LinearRegression()\n",
        "linear_model.fit(X_train,y_train)"
      ],
      "metadata": {
        "colab": {
          "base_uri": "https://localhost:8080/"
        },
        "id": "ZlXeGrkog1Ts",
        "outputId": "d23f1182-1eec-4dd8-f42d-9c4a12537cde"
      },
      "execution_count": null,
      "outputs": [
        {
          "output_type": "execute_result",
          "data": {
            "text/plain": [
              "LinearRegression()"
            ]
          },
          "metadata": {},
          "execution_count": 63
        }
      ]
    },
    {
      "cell_type": "markdown",
      "source": [
        "Model Testing"
      ],
      "metadata": {
        "id": "DrCmaYLVjg7C"
      }
    },
    {
      "cell_type": "code",
      "source": [
        "#Training Data\n",
        "y_pred_train = linear_model.predict(X_train)"
      ],
      "metadata": {
        "id": "FBy4OmE1g1Wi"
      },
      "execution_count": null,
      "outputs": []
    },
    {
      "cell_type": "code",
      "source": [
        "#Test Data\n",
        "y_pred_test = linear_model.predict(X_test)"
      ],
      "metadata": {
        "id": "Jh2MqC7Tg1a8"
      },
      "execution_count": null,
      "outputs": []
    },
    {
      "cell_type": "markdown",
      "source": [
        "Model Evaluation"
      ],
      "metadata": {
        "id": "HiBRrP_Kkfmw"
      }
    },
    {
      "cell_type": "code",
      "source": [
        "from sklearn.metrics import mean_squared_error"
      ],
      "metadata": {
        "id": "WmlL9pMfg1en"
      },
      "execution_count": null,
      "outputs": []
    },
    {
      "cell_type": "code",
      "source": [
        "#training data\n",
        "mean_squared_error(y_train,y_pred_train)"
      ],
      "metadata": {
        "colab": {
          "base_uri": "https://localhost:8080/"
        },
        "id": "ChXbve-vkuKA",
        "outputId": "b64a5b18-d492-49cd-eaca-048a2e57775b"
      },
      "execution_count": null,
      "outputs": [
        {
          "output_type": "execute_result",
          "data": {
            "text/plain": [
              "19.136456810926457"
            ]
          },
          "metadata": {},
          "execution_count": 67
        }
      ]
    },
    {
      "cell_type": "code",
      "source": [
        "#test data\n",
        "mean_squared_error(y_test,y_pred_test)"
      ],
      "metadata": {
        "colab": {
          "base_uri": "https://localhost:8080/"
        },
        "id": "PQdPRBJmmInb",
        "outputId": "6ee3e128-30a5-4b2f-f0a6-b4323eea64cc"
      },
      "execution_count": null,
      "outputs": [
        {
          "output_type": "execute_result",
          "data": {
            "text/plain": [
              "23.457874597619135"
            ]
          },
          "metadata": {},
          "execution_count": 68
        }
      ]
    },
    {
      "cell_type": "markdown",
      "source": [
        "#Model Improvement/Transformation Techniques "
      ],
      "metadata": {
        "id": "x1mHzC_SpnO3"
      }
    },
    {
      "cell_type": "markdown",
      "source": [
        "![image.png](data:image/png;base64,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)"
      ],
      "metadata": {
        "id": "zbIPrWO1pyag"
      }
    },
    {
      "cell_type": "code",
      "source": [
        "cars_data.head()"
      ],
      "metadata": {
        "colab": {
          "base_uri": "https://localhost:8080/",
          "height": 206
        },
        "id": "Cu9hG8DGrdo5",
        "outputId": "5d0061d1-77eb-44d0-ae3e-d49c5954dfc4"
      },
      "execution_count": null,
      "outputs": [
        {
          "output_type": "execute_result",
          "data": {
            "text/plain": [
              "   HP        MPG  VOL          SP         WT\n",
              "0  49  53.700681   89  104.185353  28.762059\n",
              "1  55  50.013401   92  105.461264  30.466833\n",
              "2  55  50.013401   92  105.461264  30.193597\n",
              "3  70  45.696322   92  113.461264  30.632114\n",
              "4  53  50.504232   92  104.461264  29.889149"
            ],
            "text/html": [
              "\n",
              "  <div id=\"df-f9859bd3-ac90-407c-8210-c4cf4ac275e0\">\n",
              "    <div class=\"colab-df-container\">\n",
              "      <div>\n",
              "<style scoped>\n",
              "    .dataframe tbody tr th:only-of-type {\n",
              "        vertical-align: middle;\n",
              "    }\n",
              "\n",
              "    .dataframe tbody tr th {\n",
              "        vertical-align: top;\n",
              "    }\n",
              "\n",
              "    .dataframe thead th {\n",
              "        text-align: right;\n",
              "    }\n",
              "</style>\n",
              "<table border=\"1\" class=\"dataframe\">\n",
              "  <thead>\n",
              "    <tr style=\"text-align: right;\">\n",
              "      <th></th>\n",
              "      <th>HP</th>\n",
              "      <th>MPG</th>\n",
              "      <th>VOL</th>\n",
              "      <th>SP</th>\n",
              "      <th>WT</th>\n",
              "    </tr>\n",
              "  </thead>\n",
              "  <tbody>\n",
              "    <tr>\n",
              "      <th>0</th>\n",
              "      <td>49</td>\n",
              "      <td>53.700681</td>\n",
              "      <td>89</td>\n",
              "      <td>104.185353</td>\n",
              "      <td>28.762059</td>\n",
              "    </tr>\n",
              "    <tr>\n",
              "      <th>1</th>\n",
              "      <td>55</td>\n",
              "      <td>50.013401</td>\n",
              "      <td>92</td>\n",
              "      <td>105.461264</td>\n",
              "      <td>30.466833</td>\n",
              "    </tr>\n",
              "    <tr>\n",
              "      <th>2</th>\n",
              "      <td>55</td>\n",
              "      <td>50.013401</td>\n",
              "      <td>92</td>\n",
              "      <td>105.461264</td>\n",
              "      <td>30.193597</td>\n",
              "    </tr>\n",
              "    <tr>\n",
              "      <th>3</th>\n",
              "      <td>70</td>\n",
              "      <td>45.696322</td>\n",
              "      <td>92</td>\n",
              "      <td>113.461264</td>\n",
              "      <td>30.632114</td>\n",
              "    </tr>\n",
              "    <tr>\n",
              "      <th>4</th>\n",
              "      <td>53</td>\n",
              "      <td>50.504232</td>\n",
              "      <td>92</td>\n",
              "      <td>104.461264</td>\n",
              "      <td>29.889149</td>\n",
              "    </tr>\n",
              "  </tbody>\n",
              "</table>\n",
              "</div>\n",
              "      <button class=\"colab-df-convert\" onclick=\"convertToInteractive('df-f9859bd3-ac90-407c-8210-c4cf4ac275e0')\"\n",
              "              title=\"Convert this dataframe to an interactive table.\"\n",
              "              style=\"display:none;\">\n",
              "        \n",
              "  <svg xmlns=\"http://www.w3.org/2000/svg\" height=\"24px\"viewBox=\"0 0 24 24\"\n",
              "       width=\"24px\">\n",
              "    <path d=\"M0 0h24v24H0V0z\" fill=\"none\"/>\n",
              "    <path d=\"M18.56 5.44l.94 2.06.94-2.06 2.06-.94-2.06-.94-.94-2.06-.94 2.06-2.06.94zm-11 1L8.5 8.5l.94-2.06 2.06-.94-2.06-.94L8.5 2.5l-.94 2.06-2.06.94zm10 10l.94 2.06.94-2.06 2.06-.94-2.06-.94-.94-2.06-.94 2.06-2.06.94z\"/><path d=\"M17.41 7.96l-1.37-1.37c-.4-.4-.92-.59-1.43-.59-.52 0-1.04.2-1.43.59L10.3 9.45l-7.72 7.72c-.78.78-.78 2.05 0 2.83L4 21.41c.39.39.9.59 1.41.59.51 0 1.02-.2 1.41-.59l7.78-7.78 2.81-2.81c.8-.78.8-2.07 0-2.86zM5.41 20L4 18.59l7.72-7.72 1.47 1.35L5.41 20z\"/>\n",
              "  </svg>\n",
              "      </button>\n",
              "      \n",
              "  <style>\n",
              "    .colab-df-container {\n",
              "      display:flex;\n",
              "      flex-wrap:wrap;\n",
              "      gap: 12px;\n",
              "    }\n",
              "\n",
              "    .colab-df-convert {\n",
              "      background-color: #E8F0FE;\n",
              "      border: none;\n",
              "      border-radius: 50%;\n",
              "      cursor: pointer;\n",
              "      display: none;\n",
              "      fill: #1967D2;\n",
              "      height: 32px;\n",
              "      padding: 0 0 0 0;\n",
              "      width: 32px;\n",
              "    }\n",
              "\n",
              "    .colab-df-convert:hover {\n",
              "      background-color: #E2EBFA;\n",
              "      box-shadow: 0px 1px 2px rgba(60, 64, 67, 0.3), 0px 1px 3px 1px rgba(60, 64, 67, 0.15);\n",
              "      fill: #174EA6;\n",
              "    }\n",
              "\n",
              "    [theme=dark] .colab-df-convert {\n",
              "      background-color: #3B4455;\n",
              "      fill: #D2E3FC;\n",
              "    }\n",
              "\n",
              "    [theme=dark] .colab-df-convert:hover {\n",
              "      background-color: #434B5C;\n",
              "      box-shadow: 0px 1px 3px 1px rgba(0, 0, 0, 0.15);\n",
              "      filter: drop-shadow(0px 1px 2px rgba(0, 0, 0, 0.3));\n",
              "      fill: #FFFFFF;\n",
              "    }\n",
              "  </style>\n",
              "\n",
              "      <script>\n",
              "        const buttonEl =\n",
              "          document.querySelector('#df-f9859bd3-ac90-407c-8210-c4cf4ac275e0 button.colab-df-convert');\n",
              "        buttonEl.style.display =\n",
              "          google.colab.kernel.accessAllowed ? 'block' : 'none';\n",
              "\n",
              "        async function convertToInteractive(key) {\n",
              "          const element = document.querySelector('#df-f9859bd3-ac90-407c-8210-c4cf4ac275e0');\n",
              "          const dataTable =\n",
              "            await google.colab.kernel.invokeFunction('convertToInteractive',\n",
              "                                                     [key], {});\n",
              "          if (!dataTable) return;\n",
              "\n",
              "          const docLinkHtml = 'Like what you see? Visit the ' +\n",
              "            '<a target=\"_blank\" href=https://colab.research.google.com/notebooks/data_table.ipynb>data table notebook</a>'\n",
              "            + ' to learn more about interactive tables.';\n",
              "          element.innerHTML = '';\n",
              "          dataTable['output_type'] = 'display_data';\n",
              "          await google.colab.output.renderOutput(dataTable, element);\n",
              "          const docLink = document.createElement('div');\n",
              "          docLink.innerHTML = docLinkHtml;\n",
              "          element.appendChild(docLink);\n",
              "        }\n",
              "      </script>\n",
              "    </div>\n",
              "  </div>\n",
              "  "
            ]
          },
          "metadata": {},
          "execution_count": 69
        }
      ]
    },
    {
      "cell_type": "code",
      "source": [
        "import numpy as np"
      ],
      "metadata": {
        "id": "Y1EcfHl6rkzA"
      },
      "execution_count": null,
      "outputs": []
    },
    {
      "cell_type": "code",
      "source": [
        "cars_data['log_HP'] = np.log(cars_data['HP'])\n",
        "cars_data['log_VOL'] = np.log(cars_data['VOL'])\n",
        "cars_data['log_SP'] = np.log(cars_data['SP'])\n",
        "cars_data['log_WT'] = np.log(cars_data['WT'])"
      ],
      "metadata": {
        "id": "-6DG3vkJqAhf"
      },
      "execution_count": null,
      "outputs": []
    },
    {
      "cell_type": "code",
      "source": [
        "cars_data.head()"
      ],
      "metadata": {
        "colab": {
          "base_uri": "https://localhost:8080/",
          "height": 206
        },
        "id": "8bPC6TYhqAlm",
        "outputId": "37b975da-cbd1-4d8e-c9b1-d030394ebf7a"
      },
      "execution_count": null,
      "outputs": [
        {
          "output_type": "execute_result",
          "data": {
            "text/plain": [
              "   HP        MPG  VOL          SP         WT    log_HP   log_VOL    log_SP  \\\n",
              "0  49  53.700681   89  104.185353  28.762059  3.891820  4.488636  4.646172   \n",
              "1  55  50.013401   92  105.461264  30.466833  4.007333  4.521789  4.658344   \n",
              "2  55  50.013401   92  105.461264  30.193597  4.007333  4.521789  4.658344   \n",
              "3  70  45.696322   92  113.461264  30.632114  4.248495  4.521789  4.731461   \n",
              "4  53  50.504232   92  104.461264  29.889149  3.970292  4.521789  4.648816   \n",
              "\n",
              "     log_WT  \n",
              "0  3.359057  \n",
              "1  3.416639  \n",
              "2  3.407630  \n",
              "3  3.422049  \n",
              "4  3.397495  "
            ],
            "text/html": [
              "\n",
              "  <div id=\"df-1bc22746-6aa8-492d-bf93-5a500babf9b3\">\n",
              "    <div class=\"colab-df-container\">\n",
              "      <div>\n",
              "<style scoped>\n",
              "    .dataframe tbody tr th:only-of-type {\n",
              "        vertical-align: middle;\n",
              "    }\n",
              "\n",
              "    .dataframe tbody tr th {\n",
              "        vertical-align: top;\n",
              "    }\n",
              "\n",
              "    .dataframe thead th {\n",
              "        text-align: right;\n",
              "    }\n",
              "</style>\n",
              "<table border=\"1\" class=\"dataframe\">\n",
              "  <thead>\n",
              "    <tr style=\"text-align: right;\">\n",
              "      <th></th>\n",
              "      <th>HP</th>\n",
              "      <th>MPG</th>\n",
              "      <th>VOL</th>\n",
              "      <th>SP</th>\n",
              "      <th>WT</th>\n",
              "      <th>log_HP</th>\n",
              "      <th>log_VOL</th>\n",
              "      <th>log_SP</th>\n",
              "      <th>log_WT</th>\n",
              "    </tr>\n",
              "  </thead>\n",
              "  <tbody>\n",
              "    <tr>\n",
              "      <th>0</th>\n",
              "      <td>49</td>\n",
              "      <td>53.700681</td>\n",
              "      <td>89</td>\n",
              "      <td>104.185353</td>\n",
              "      <td>28.762059</td>\n",
              "      <td>3.891820</td>\n",
              "      <td>4.488636</td>\n",
              "      <td>4.646172</td>\n",
              "      <td>3.359057</td>\n",
              "    </tr>\n",
              "    <tr>\n",
              "      <th>1</th>\n",
              "      <td>55</td>\n",
              "      <td>50.013401</td>\n",
              "      <td>92</td>\n",
              "      <td>105.461264</td>\n",
              "      <td>30.466833</td>\n",
              "      <td>4.007333</td>\n",
              "      <td>4.521789</td>\n",
              "      <td>4.658344</td>\n",
              "      <td>3.416639</td>\n",
              "    </tr>\n",
              "    <tr>\n",
              "      <th>2</th>\n",
              "      <td>55</td>\n",
              "      <td>50.013401</td>\n",
              "      <td>92</td>\n",
              "      <td>105.461264</td>\n",
              "      <td>30.193597</td>\n",
              "      <td>4.007333</td>\n",
              "      <td>4.521789</td>\n",
              "      <td>4.658344</td>\n",
              "      <td>3.407630</td>\n",
              "    </tr>\n",
              "    <tr>\n",
              "      <th>3</th>\n",
              "      <td>70</td>\n",
              "      <td>45.696322</td>\n",
              "      <td>92</td>\n",
              "      <td>113.461264</td>\n",
              "      <td>30.632114</td>\n",
              "      <td>4.248495</td>\n",
              "      <td>4.521789</td>\n",
              "      <td>4.731461</td>\n",
              "      <td>3.422049</td>\n",
              "    </tr>\n",
              "    <tr>\n",
              "      <th>4</th>\n",
              "      <td>53</td>\n",
              "      <td>50.504232</td>\n",
              "      <td>92</td>\n",
              "      <td>104.461264</td>\n",
              "      <td>29.889149</td>\n",
              "      <td>3.970292</td>\n",
              "      <td>4.521789</td>\n",
              "      <td>4.648816</td>\n",
              "      <td>3.397495</td>\n",
              "    </tr>\n",
              "  </tbody>\n",
              "</table>\n",
              "</div>\n",
              "      <button class=\"colab-df-convert\" onclick=\"convertToInteractive('df-1bc22746-6aa8-492d-bf93-5a500babf9b3')\"\n",
              "              title=\"Convert this dataframe to an interactive table.\"\n",
              "              style=\"display:none;\">\n",
              "        \n",
              "  <svg xmlns=\"http://www.w3.org/2000/svg\" height=\"24px\"viewBox=\"0 0 24 24\"\n",
              "       width=\"24px\">\n",
              "    <path d=\"M0 0h24v24H0V0z\" fill=\"none\"/>\n",
              "    <path d=\"M18.56 5.44l.94 2.06.94-2.06 2.06-.94-2.06-.94-.94-2.06-.94 2.06-2.06.94zm-11 1L8.5 8.5l.94-2.06 2.06-.94-2.06-.94L8.5 2.5l-.94 2.06-2.06.94zm10 10l.94 2.06.94-2.06 2.06-.94-2.06-.94-.94-2.06-.94 2.06-2.06.94z\"/><path d=\"M17.41 7.96l-1.37-1.37c-.4-.4-.92-.59-1.43-.59-.52 0-1.04.2-1.43.59L10.3 9.45l-7.72 7.72c-.78.78-.78 2.05 0 2.83L4 21.41c.39.39.9.59 1.41.59.51 0 1.02-.2 1.41-.59l7.78-7.78 2.81-2.81c.8-.78.8-2.07 0-2.86zM5.41 20L4 18.59l7.72-7.72 1.47 1.35L5.41 20z\"/>\n",
              "  </svg>\n",
              "      </button>\n",
              "      \n",
              "  <style>\n",
              "    .colab-df-container {\n",
              "      display:flex;\n",
              "      flex-wrap:wrap;\n",
              "      gap: 12px;\n",
              "    }\n",
              "\n",
              "    .colab-df-convert {\n",
              "      background-color: #E8F0FE;\n",
              "      border: none;\n",
              "      border-radius: 50%;\n",
              "      cursor: pointer;\n",
              "      display: none;\n",
              "      fill: #1967D2;\n",
              "      height: 32px;\n",
              "      padding: 0 0 0 0;\n",
              "      width: 32px;\n",
              "    }\n",
              "\n",
              "    .colab-df-convert:hover {\n",
              "      background-color: #E2EBFA;\n",
              "      box-shadow: 0px 1px 2px rgba(60, 64, 67, 0.3), 0px 1px 3px 1px rgba(60, 64, 67, 0.15);\n",
              "      fill: #174EA6;\n",
              "    }\n",
              "\n",
              "    [theme=dark] .colab-df-convert {\n",
              "      background-color: #3B4455;\n",
              "      fill: #D2E3FC;\n",
              "    }\n",
              "\n",
              "    [theme=dark] .colab-df-convert:hover {\n",
              "      background-color: #434B5C;\n",
              "      box-shadow: 0px 1px 3px 1px rgba(0, 0, 0, 0.15);\n",
              "      filter: drop-shadow(0px 1px 2px rgba(0, 0, 0, 0.3));\n",
              "      fill: #FFFFFF;\n",
              "    }\n",
              "  </style>\n",
              "\n",
              "      <script>\n",
              "        const buttonEl =\n",
              "          document.querySelector('#df-1bc22746-6aa8-492d-bf93-5a500babf9b3 button.colab-df-convert');\n",
              "        buttonEl.style.display =\n",
              "          google.colab.kernel.accessAllowed ? 'block' : 'none';\n",
              "\n",
              "        async function convertToInteractive(key) {\n",
              "          const element = document.querySelector('#df-1bc22746-6aa8-492d-bf93-5a500babf9b3');\n",
              "          const dataTable =\n",
              "            await google.colab.kernel.invokeFunction('convertToInteractive',\n",
              "                                                     [key], {});\n",
              "          if (!dataTable) return;\n",
              "\n",
              "          const docLinkHtml = 'Like what you see? Visit the ' +\n",
              "            '<a target=\"_blank\" href=https://colab.research.google.com/notebooks/data_table.ipynb>data table notebook</a>'\n",
              "            + ' to learn more about interactive tables.';\n",
              "          element.innerHTML = '';\n",
              "          dataTable['output_type'] = 'display_data';\n",
              "          await google.colab.output.renderOutput(dataTable, element);\n",
              "          const docLink = document.createElement('div');\n",
              "          docLink.innerHTML = docLinkHtml;\n",
              "          element.appendChild(docLink);\n",
              "        }\n",
              "      </script>\n",
              "    </div>\n",
              "  </div>\n",
              "  "
            ]
          },
          "metadata": {},
          "execution_count": 72
        }
      ]
    },
    {
      "cell_type": "code",
      "source": [
        "plt.figure(figsize = (20,8))\n",
        "sns.lmplot(x= 'SP', y ='MPG',data = cars_data)\n",
        "plt.title('SP vs MPG')\n",
        "sns.lmplot(x= 'log_SP', y ='MPG',data = cars_data)\n",
        "plt.title('log_SP vs MPG')\n",
        "plt.show"
      ],
      "metadata": {
        "colab": {
          "base_uri": "https://localhost:8080/",
          "height": 788
        },
        "id": "_Nn7P3R2mQXC",
        "outputId": "01552f93-e045-4983-b256-7a42ea8a265d"
      },
      "execution_count": null,
      "outputs": [
        {
          "output_type": "execute_result",
          "data": {
            "text/plain": [
              "<function matplotlib.pyplot.show(*args, **kw)>"
            ]
          },
          "metadata": {},
          "execution_count": 73
        },
        {
          "output_type": "display_data",
          "data": {
            "text/plain": [
              "<Figure size 1440x576 with 0 Axes>"
            ]
          },
          "metadata": {}
        },
        {
          "output_type": "display_data",
          "data": {
            "text/plain": [
              "<Figure size 360x360 with 1 Axes>"
            ],
            "image/png": "[encoded data removed]"
          },
          "metadata": {
            "needs_background": "light"
          }
        },
        {
          "output_type": "display_data",
          "data": {
            "text/plain": [
              "<Figure size 360x360 with 1 Axes>"
            ],
            "image/png": "[encoded data removed]"
          },
          "metadata": {
            "needs_background": "light"
          }
        }
      ]
    },
    {
      "cell_type": "markdown",
      "source": [
        "End"
      ],
      "metadata": {
        "id": "mPdo1Y99wCbi"
      }
    }
  ]
}